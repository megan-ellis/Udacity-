{
 "cells": [
  {
   "cell_type": "markdown",
   "metadata": {},
   "source": [
    "\n",
    "# Project 2: IMDB Database Analysis\n",
    "\n",
    "## Table of Contents\n",
    "<ul>\n",
    "<li><a href=\"#intro\">Introduction</a></li>\n",
    "<li><a href=\"#wrangling\">Data Wrangling</a></li>\n",
    "<li><a href=\"#eda\">Exploratory Data Analysis</a></li>\n",
    "<li><a href=\"#conclusions\">Conclusions</a></li>\n",
    "</ul>"
   ]
  },
  {
   "cell_type": "markdown",
   "metadata": {},
   "source": [
    "<a id='intro'></a>\n",
    "## Introduction\n",
    "\n",
    ">When a movie is released, early data can influence a consumers decision to see the film or not. The largest movie database is undoubtedly IMDb. There have been criticisms of IMDb's ranking system, because they do not allow votes from 'non-regular' users to influence the average that ultimately determines the film's overall ranking in the top 250 films.\n",
    "\n",
    ">When observing the raw data it appears that many unpopular films have the highest rating. IMDb has taken the initiative to include a minimum number of ratings from regular users before the film is included in the 'top films' list. The amount of votes required for a voter to become a 'regular' user is undisclosed in an effort to prevent any manipulation of the rating sytem. Additionally IMDb requires a minimum of 25,000 votes from regular users for a film to place rank.\n",
    "\n",
    ">This analysis explores the following questions:\n",
    " \n",
    "   + What are the top 10 movies based on vote average in this data set? By Revenue?\n",
    "   + Which genre has the highest rating on average?\n",
    "   + In the last 10 years of this data set, which year had the highest revenue? Which year had the highest revenue proportional to the number of films released?\n",
    "   + Of the highest grossing year overall, and the proportionally highest grossing year of the last decade, which films had the highest revenue, and how do they compare to those with the highest rating? \n",
    "   + Does there appear to be a recency bias (i.e. Are newer movies getting consistently higher or lower ratings on average)?\n",
    "   "
   ]
  },
  {
   "cell_type": "code",
   "execution_count": 168,
   "metadata": {},
   "outputs": [],
   "source": [
    "import pandas as pd\n",
    "import numpy as np\n",
    "%matplotlib inline\n",
    "import matplotlib.pyplot as plt\n",
    "import seaborn as sns "
   ]
  },
  {
   "cell_type": "markdown",
   "metadata": {},
   "source": [
    "<a id='wrangling'></a>\n",
    "## Data Wrangling\n",
    "\n",
    ">The dataframe can be cleaned and adjusted for readability, and to accomodate the specific questions explored in the analysis. In order to make the data most accurately represent the IMDb ranking standards, films with a low number of ratings should be removed entirely. Once this is complete the necessity of the column data should be evaluated. Since the report is investigating movie data based on vote average, genres, revenue adjusted for inflation, and release year, these columns should be kept for sorting and plotting. Everything else can be removed. \n",
    "\n",
    ">Additionally, the way genres are recorded in the initial data is not ideal for an analysis on average score of a given genre. Genres containing multiple types are renamed to include only one genre-type for easy of sorting and to ensure that no film is counted twice in the analysis."
   ]
  },
  {
   "cell_type": "markdown",
   "metadata": {},
   "source": [
    "#### Load the IMDb movie data\n",
    "+ Use pandas .read_csv() function.\n",
    "+ Use .head() to display first few rows of data"
   ]
  },
  {
   "cell_type": "code",
   "execution_count": 169,
   "metadata": {},
   "outputs": [
    {
     "data": {
      "text/html": [
       "<div>\n",
       "<style scoped>\n",
       "    .dataframe tbody tr th:only-of-type {\n",
       "        vertical-align: middle;\n",
       "    }\n",
       "\n",
       "    .dataframe tbody tr th {\n",
       "        vertical-align: top;\n",
       "    }\n",
       "\n",
       "    .dataframe thead th {\n",
       "        text-align: right;\n",
       "    }\n",
       "</style>\n",
       "<table border=\"1\" class=\"dataframe\">\n",
       "  <thead>\n",
       "    <tr style=\"text-align: right;\">\n",
       "      <th></th>\n",
       "      <th>id</th>\n",
       "      <th>imdb_id</th>\n",
       "      <th>popularity</th>\n",
       "      <th>budget</th>\n",
       "      <th>revenue</th>\n",
       "      <th>original_title</th>\n",
       "      <th>cast</th>\n",
       "      <th>homepage</th>\n",
       "      <th>director</th>\n",
       "      <th>tagline</th>\n",
       "      <th>...</th>\n",
       "      <th>overview</th>\n",
       "      <th>runtime</th>\n",
       "      <th>genres</th>\n",
       "      <th>production_companies</th>\n",
       "      <th>release_date</th>\n",
       "      <th>vote_count</th>\n",
       "      <th>vote_average</th>\n",
       "      <th>release_year</th>\n",
       "      <th>budget_adj</th>\n",
       "      <th>revenue_adj</th>\n",
       "    </tr>\n",
       "  </thead>\n",
       "  <tbody>\n",
       "    <tr>\n",
       "      <th>0</th>\n",
       "      <td>135397</td>\n",
       "      <td>tt0369610</td>\n",
       "      <td>32.985763</td>\n",
       "      <td>150000000</td>\n",
       "      <td>1513528810</td>\n",
       "      <td>Jurassic World</td>\n",
       "      <td>Chris Pratt|Bryce Dallas Howard|Irrfan Khan|Vi...</td>\n",
       "      <td>http://www.jurassicworld.com/</td>\n",
       "      <td>Colin Trevorrow</td>\n",
       "      <td>The park is open.</td>\n",
       "      <td>...</td>\n",
       "      <td>Twenty-two years after the events of Jurassic ...</td>\n",
       "      <td>124</td>\n",
       "      <td>Action|Adventure|Science Fiction|Thriller</td>\n",
       "      <td>Universal Studios|Amblin Entertainment|Legenda...</td>\n",
       "      <td>6/9/2015</td>\n",
       "      <td>5562</td>\n",
       "      <td>6.5</td>\n",
       "      <td>2015</td>\n",
       "      <td>137999939.3</td>\n",
       "      <td>1.392446e+09</td>\n",
       "    </tr>\n",
       "    <tr>\n",
       "      <th>1</th>\n",
       "      <td>76341</td>\n",
       "      <td>tt1392190</td>\n",
       "      <td>28.419936</td>\n",
       "      <td>150000000</td>\n",
       "      <td>378436354</td>\n",
       "      <td>Mad Max: Fury Road</td>\n",
       "      <td>Tom Hardy|Charlize Theron|Hugh Keays-Byrne|Nic...</td>\n",
       "      <td>http://www.madmaxmovie.com/</td>\n",
       "      <td>George Miller</td>\n",
       "      <td>What a Lovely Day.</td>\n",
       "      <td>...</td>\n",
       "      <td>An apocalyptic story set in the furthest reach...</td>\n",
       "      <td>120</td>\n",
       "      <td>Action|Adventure|Science Fiction|Thriller</td>\n",
       "      <td>Village Roadshow Pictures|Kennedy Miller Produ...</td>\n",
       "      <td>5/13/2015</td>\n",
       "      <td>6185</td>\n",
       "      <td>7.1</td>\n",
       "      <td>2015</td>\n",
       "      <td>137999939.3</td>\n",
       "      <td>3.481613e+08</td>\n",
       "    </tr>\n",
       "    <tr>\n",
       "      <th>2</th>\n",
       "      <td>262500</td>\n",
       "      <td>tt2908446</td>\n",
       "      <td>13.112507</td>\n",
       "      <td>110000000</td>\n",
       "      <td>295238201</td>\n",
       "      <td>Insurgent</td>\n",
       "      <td>Shailene Woodley|Theo James|Kate Winslet|Ansel...</td>\n",
       "      <td>http://www.thedivergentseries.movie/#insurgent</td>\n",
       "      <td>Robert Schwentke</td>\n",
       "      <td>One Choice Can Destroy You</td>\n",
       "      <td>...</td>\n",
       "      <td>Beatrice Prior must confront her inner demons ...</td>\n",
       "      <td>119</td>\n",
       "      <td>Adventure|Science Fiction|Thriller</td>\n",
       "      <td>Summit Entertainment|Mandeville Films|Red Wago...</td>\n",
       "      <td>3/18/2015</td>\n",
       "      <td>2480</td>\n",
       "      <td>6.3</td>\n",
       "      <td>2015</td>\n",
       "      <td>101199955.5</td>\n",
       "      <td>2.716190e+08</td>\n",
       "    </tr>\n",
       "  </tbody>\n",
       "</table>\n",
       "<p>3 rows × 21 columns</p>\n",
       "</div>"
      ],
      "text/plain": [
       "       id    imdb_id  popularity     budget     revenue      original_title  \\\n",
       "0  135397  tt0369610   32.985763  150000000  1513528810      Jurassic World   \n",
       "1   76341  tt1392190   28.419936  150000000   378436354  Mad Max: Fury Road   \n",
       "2  262500  tt2908446   13.112507  110000000   295238201           Insurgent   \n",
       "\n",
       "                                                cast  \\\n",
       "0  Chris Pratt|Bryce Dallas Howard|Irrfan Khan|Vi...   \n",
       "1  Tom Hardy|Charlize Theron|Hugh Keays-Byrne|Nic...   \n",
       "2  Shailene Woodley|Theo James|Kate Winslet|Ansel...   \n",
       "\n",
       "                                         homepage          director  \\\n",
       "0                   http://www.jurassicworld.com/   Colin Trevorrow   \n",
       "1                     http://www.madmaxmovie.com/     George Miller   \n",
       "2  http://www.thedivergentseries.movie/#insurgent  Robert Schwentke   \n",
       "\n",
       "                      tagline  ...  \\\n",
       "0           The park is open.  ...   \n",
       "1          What a Lovely Day.  ...   \n",
       "2  One Choice Can Destroy You  ...   \n",
       "\n",
       "                                            overview runtime  \\\n",
       "0  Twenty-two years after the events of Jurassic ...     124   \n",
       "1  An apocalyptic story set in the furthest reach...     120   \n",
       "2  Beatrice Prior must confront her inner demons ...     119   \n",
       "\n",
       "                                      genres  \\\n",
       "0  Action|Adventure|Science Fiction|Thriller   \n",
       "1  Action|Adventure|Science Fiction|Thriller   \n",
       "2         Adventure|Science Fiction|Thriller   \n",
       "\n",
       "                                production_companies release_date vote_count  \\\n",
       "0  Universal Studios|Amblin Entertainment|Legenda...     6/9/2015       5562   \n",
       "1  Village Roadshow Pictures|Kennedy Miller Produ...    5/13/2015       6185   \n",
       "2  Summit Entertainment|Mandeville Films|Red Wago...    3/18/2015       2480   \n",
       "\n",
       "   vote_average  release_year   budget_adj   revenue_adj  \n",
       "0           6.5          2015  137999939.3  1.392446e+09  \n",
       "1           7.1          2015  137999939.3  3.481613e+08  \n",
       "2           6.3          2015  101199955.5  2.716190e+08  \n",
       "\n",
       "[3 rows x 21 columns]"
      ]
     },
     "execution_count": 169,
     "metadata": {},
     "output_type": "execute_result"
    }
   ],
   "source": [
    "db=pd.read_csv(\"tmdbmovies.csv\")\n",
    "db.head(3)"
   ]
  },
  {
   "cell_type": "markdown",
   "metadata": {},
   "source": [
    "#### Get an overview of the information provided by Data\n",
    "+ Use the .info() and .describe() functions to get a summary of column names, rows, and data types, as well as basic statistical data."
   ]
  },
  {
   "cell_type": "code",
   "execution_count": 170,
   "metadata": {},
   "outputs": [
    {
     "name": "stdout",
     "output_type": "stream",
     "text": [
      "<class 'pandas.core.frame.DataFrame'>\n",
      "RangeIndex: 10866 entries, 0 to 10865\n",
      "Data columns (total 21 columns):\n",
      "id                      10866 non-null int64\n",
      "imdb_id                 10856 non-null object\n",
      "popularity              10866 non-null float64\n",
      "budget                  10866 non-null int64\n",
      "revenue                 10866 non-null int64\n",
      "original_title          10866 non-null object\n",
      "cast                    10790 non-null object\n",
      "homepage                2936 non-null object\n",
      "director                10822 non-null object\n",
      "tagline                 8042 non-null object\n",
      "keywords                9373 non-null object\n",
      "overview                10862 non-null object\n",
      "runtime                 10866 non-null int64\n",
      "genres                  10843 non-null object\n",
      "production_companies    9836 non-null object\n",
      "release_date            10866 non-null object\n",
      "vote_count              10866 non-null int64\n",
      "vote_average            10866 non-null float64\n",
      "release_year            10866 non-null int64\n",
      "budget_adj              10866 non-null float64\n",
      "revenue_adj             10866 non-null float64\n",
      "dtypes: float64(4), int64(6), object(11)\n",
      "memory usage: 1.7+ MB\n"
     ]
    }
   ],
   "source": [
    "db.info()"
   ]
  },
  {
   "cell_type": "code",
   "execution_count": 171,
   "metadata": {},
   "outputs": [
    {
     "data": {
      "text/html": [
       "<div>\n",
       "<style scoped>\n",
       "    .dataframe tbody tr th:only-of-type {\n",
       "        vertical-align: middle;\n",
       "    }\n",
       "\n",
       "    .dataframe tbody tr th {\n",
       "        vertical-align: top;\n",
       "    }\n",
       "\n",
       "    .dataframe thead th {\n",
       "        text-align: right;\n",
       "    }\n",
       "</style>\n",
       "<table border=\"1\" class=\"dataframe\">\n",
       "  <thead>\n",
       "    <tr style=\"text-align: right;\">\n",
       "      <th></th>\n",
       "      <th>id</th>\n",
       "      <th>popularity</th>\n",
       "      <th>budget</th>\n",
       "      <th>revenue</th>\n",
       "      <th>runtime</th>\n",
       "      <th>vote_count</th>\n",
       "      <th>vote_average</th>\n",
       "      <th>release_year</th>\n",
       "      <th>budget_adj</th>\n",
       "      <th>revenue_adj</th>\n",
       "    </tr>\n",
       "  </thead>\n",
       "  <tbody>\n",
       "    <tr>\n",
       "      <th>count</th>\n",
       "      <td>10866.000000</td>\n",
       "      <td>10866.000000</td>\n",
       "      <td>1.086600e+04</td>\n",
       "      <td>1.086600e+04</td>\n",
       "      <td>10866.000000</td>\n",
       "      <td>10866.000000</td>\n",
       "      <td>10866.000000</td>\n",
       "      <td>10866.000000</td>\n",
       "      <td>1.086600e+04</td>\n",
       "      <td>1.086600e+04</td>\n",
       "    </tr>\n",
       "    <tr>\n",
       "      <th>mean</th>\n",
       "      <td>66064.177434</td>\n",
       "      <td>0.646441</td>\n",
       "      <td>1.462570e+07</td>\n",
       "      <td>3.982332e+07</td>\n",
       "      <td>102.070863</td>\n",
       "      <td>217.389748</td>\n",
       "      <td>5.974922</td>\n",
       "      <td>2001.322658</td>\n",
       "      <td>1.755104e+07</td>\n",
       "      <td>5.136436e+07</td>\n",
       "    </tr>\n",
       "    <tr>\n",
       "      <th>std</th>\n",
       "      <td>92130.136561</td>\n",
       "      <td>1.000185</td>\n",
       "      <td>3.091321e+07</td>\n",
       "      <td>1.170035e+08</td>\n",
       "      <td>31.381405</td>\n",
       "      <td>575.619058</td>\n",
       "      <td>0.935142</td>\n",
       "      <td>12.812941</td>\n",
       "      <td>3.430616e+07</td>\n",
       "      <td>1.446325e+08</td>\n",
       "    </tr>\n",
       "    <tr>\n",
       "      <th>min</th>\n",
       "      <td>5.000000</td>\n",
       "      <td>0.000065</td>\n",
       "      <td>0.000000e+00</td>\n",
       "      <td>0.000000e+00</td>\n",
       "      <td>0.000000</td>\n",
       "      <td>10.000000</td>\n",
       "      <td>1.500000</td>\n",
       "      <td>1960.000000</td>\n",
       "      <td>0.000000e+00</td>\n",
       "      <td>0.000000e+00</td>\n",
       "    </tr>\n",
       "    <tr>\n",
       "      <th>25%</th>\n",
       "      <td>10596.250000</td>\n",
       "      <td>0.207583</td>\n",
       "      <td>0.000000e+00</td>\n",
       "      <td>0.000000e+00</td>\n",
       "      <td>90.000000</td>\n",
       "      <td>17.000000</td>\n",
       "      <td>5.400000</td>\n",
       "      <td>1995.000000</td>\n",
       "      <td>0.000000e+00</td>\n",
       "      <td>0.000000e+00</td>\n",
       "    </tr>\n",
       "    <tr>\n",
       "      <th>50%</th>\n",
       "      <td>20669.000000</td>\n",
       "      <td>0.383856</td>\n",
       "      <td>0.000000e+00</td>\n",
       "      <td>0.000000e+00</td>\n",
       "      <td>99.000000</td>\n",
       "      <td>38.000000</td>\n",
       "      <td>6.000000</td>\n",
       "      <td>2006.000000</td>\n",
       "      <td>0.000000e+00</td>\n",
       "      <td>0.000000e+00</td>\n",
       "    </tr>\n",
       "    <tr>\n",
       "      <th>75%</th>\n",
       "      <td>75610.000000</td>\n",
       "      <td>0.713817</td>\n",
       "      <td>1.500000e+07</td>\n",
       "      <td>2.400000e+07</td>\n",
       "      <td>111.000000</td>\n",
       "      <td>145.750000</td>\n",
       "      <td>6.600000</td>\n",
       "      <td>2011.000000</td>\n",
       "      <td>2.085325e+07</td>\n",
       "      <td>3.369710e+07</td>\n",
       "    </tr>\n",
       "    <tr>\n",
       "      <th>max</th>\n",
       "      <td>417859.000000</td>\n",
       "      <td>32.985763</td>\n",
       "      <td>4.250000e+08</td>\n",
       "      <td>2.781506e+09</td>\n",
       "      <td>900.000000</td>\n",
       "      <td>9767.000000</td>\n",
       "      <td>9.200000</td>\n",
       "      <td>2015.000000</td>\n",
       "      <td>4.250000e+08</td>\n",
       "      <td>2.827124e+09</td>\n",
       "    </tr>\n",
       "  </tbody>\n",
       "</table>\n",
       "</div>"
      ],
      "text/plain": [
       "                  id    popularity        budget       revenue       runtime  \\\n",
       "count   10866.000000  10866.000000  1.086600e+04  1.086600e+04  10866.000000   \n",
       "mean    66064.177434      0.646441  1.462570e+07  3.982332e+07    102.070863   \n",
       "std     92130.136561      1.000185  3.091321e+07  1.170035e+08     31.381405   \n",
       "min         5.000000      0.000065  0.000000e+00  0.000000e+00      0.000000   \n",
       "25%     10596.250000      0.207583  0.000000e+00  0.000000e+00     90.000000   \n",
       "50%     20669.000000      0.383856  0.000000e+00  0.000000e+00     99.000000   \n",
       "75%     75610.000000      0.713817  1.500000e+07  2.400000e+07    111.000000   \n",
       "max    417859.000000     32.985763  4.250000e+08  2.781506e+09    900.000000   \n",
       "\n",
       "         vote_count  vote_average  release_year    budget_adj   revenue_adj  \n",
       "count  10866.000000  10866.000000  10866.000000  1.086600e+04  1.086600e+04  \n",
       "mean     217.389748      5.974922   2001.322658  1.755104e+07  5.136436e+07  \n",
       "std      575.619058      0.935142     12.812941  3.430616e+07  1.446325e+08  \n",
       "min       10.000000      1.500000   1960.000000  0.000000e+00  0.000000e+00  \n",
       "25%       17.000000      5.400000   1995.000000  0.000000e+00  0.000000e+00  \n",
       "50%       38.000000      6.000000   2006.000000  0.000000e+00  0.000000e+00  \n",
       "75%      145.750000      6.600000   2011.000000  2.085325e+07  3.369710e+07  \n",
       "max     9767.000000      9.200000   2015.000000  4.250000e+08  2.827124e+09  "
      ]
     },
     "execution_count": 171,
     "metadata": {},
     "output_type": "execute_result"
    }
   ],
   "source": [
    "db.describe()"
   ]
  },
  {
   "cell_type": "markdown",
   "metadata": {},
   "source": [
    ">Based on this information, the minimum vote count is very low. Remove rows with a low vote count (Less than 1,000) to mimic the IMDb \"Vote Minimum\" requirement. "
   ]
  },
  {
   "cell_type": "code",
   "execution_count": 172,
   "metadata": {},
   "outputs": [
    {
     "name": "stdout",
     "output_type": "stream",
     "text": [
      "<class 'pandas.core.frame.DataFrame'>\n",
      "Int64Index: 564 entries, 0 to 10594\n",
      "Data columns (total 21 columns):\n",
      "id                      564 non-null int64\n",
      "imdb_id                 564 non-null object\n",
      "popularity              564 non-null float64\n",
      "budget                  564 non-null int64\n",
      "revenue                 564 non-null int64\n",
      "original_title          564 non-null object\n",
      "cast                    564 non-null object\n",
      "homepage                389 non-null object\n",
      "director                564 non-null object\n",
      "tagline                 556 non-null object\n",
      "keywords                562 non-null object\n",
      "overview                564 non-null object\n",
      "runtime                 564 non-null int64\n",
      "genres                  564 non-null object\n",
      "production_companies    564 non-null object\n",
      "release_date            564 non-null object\n",
      "vote_count              564 non-null int64\n",
      "vote_average            564 non-null float64\n",
      "release_year            564 non-null int64\n",
      "budget_adj              564 non-null float64\n",
      "revenue_adj             564 non-null float64\n",
      "dtypes: float64(4), int64(6), object(11)\n",
      "memory usage: 96.9+ KB\n"
     ]
    }
   ],
   "source": [
    "db=db.query('vote_count >= 1000')\n",
    "db.info()"
   ]
  },
  {
   "cell_type": "markdown",
   "metadata": {},
   "source": [
    ">Remove any columns with data that will not be used in this analysis"
   ]
  },
  {
   "cell_type": "code",
   "execution_count": 173,
   "metadata": {},
   "outputs": [
    {
     "data": {
      "text/html": [
       "<div>\n",
       "<style scoped>\n",
       "    .dataframe tbody tr th:only-of-type {\n",
       "        vertical-align: middle;\n",
       "    }\n",
       "\n",
       "    .dataframe tbody tr th {\n",
       "        vertical-align: top;\n",
       "    }\n",
       "\n",
       "    .dataframe thead th {\n",
       "        text-align: right;\n",
       "    }\n",
       "</style>\n",
       "<table border=\"1\" class=\"dataframe\">\n",
       "  <thead>\n",
       "    <tr style=\"text-align: right;\">\n",
       "      <th></th>\n",
       "      <th>budget</th>\n",
       "      <th>revenue</th>\n",
       "      <th>original_title</th>\n",
       "      <th>director</th>\n",
       "      <th>runtime</th>\n",
       "      <th>genres</th>\n",
       "      <th>release_date</th>\n",
       "      <th>vote_average</th>\n",
       "      <th>release_year</th>\n",
       "    </tr>\n",
       "  </thead>\n",
       "  <tbody>\n",
       "    <tr>\n",
       "      <th>0</th>\n",
       "      <td>150000000</td>\n",
       "      <td>1513528810</td>\n",
       "      <td>Jurassic World</td>\n",
       "      <td>Colin Trevorrow</td>\n",
       "      <td>124</td>\n",
       "      <td>Action|Adventure|Science Fiction|Thriller</td>\n",
       "      <td>6/9/2015</td>\n",
       "      <td>6.5</td>\n",
       "      <td>2015</td>\n",
       "    </tr>\n",
       "    <tr>\n",
       "      <th>1</th>\n",
       "      <td>150000000</td>\n",
       "      <td>378436354</td>\n",
       "      <td>Mad Max: Fury Road</td>\n",
       "      <td>George Miller</td>\n",
       "      <td>120</td>\n",
       "      <td>Action|Adventure|Science Fiction|Thriller</td>\n",
       "      <td>5/13/2015</td>\n",
       "      <td>7.1</td>\n",
       "      <td>2015</td>\n",
       "    </tr>\n",
       "    <tr>\n",
       "      <th>2</th>\n",
       "      <td>110000000</td>\n",
       "      <td>295238201</td>\n",
       "      <td>Insurgent</td>\n",
       "      <td>Robert Schwentke</td>\n",
       "      <td>119</td>\n",
       "      <td>Adventure|Science Fiction|Thriller</td>\n",
       "      <td>3/18/2015</td>\n",
       "      <td>6.3</td>\n",
       "      <td>2015</td>\n",
       "    </tr>\n",
       "  </tbody>\n",
       "</table>\n",
       "</div>"
      ],
      "text/plain": [
       "      budget     revenue      original_title          director  runtime  \\\n",
       "0  150000000  1513528810      Jurassic World   Colin Trevorrow      124   \n",
       "1  150000000   378436354  Mad Max: Fury Road     George Miller      120   \n",
       "2  110000000   295238201           Insurgent  Robert Schwentke      119   \n",
       "\n",
       "                                      genres release_date  vote_average  \\\n",
       "0  Action|Adventure|Science Fiction|Thriller     6/9/2015           6.5   \n",
       "1  Action|Adventure|Science Fiction|Thriller    5/13/2015           7.1   \n",
       "2         Adventure|Science Fiction|Thriller    3/18/2015           6.3   \n",
       "\n",
       "   release_year  \n",
       "0          2015  \n",
       "1          2015  \n",
       "2          2015  "
      ]
     },
     "execution_count": 173,
     "metadata": {},
     "output_type": "execute_result"
    }
   ],
   "source": [
    "db=db.drop(['id', 'imdb_id', 'cast', 'homepage', 'tagline', 'keywords', 'overview', 'popularity', 'production_companies', 'vote_count', 'budget_adj', 'revenue_adj'], axis=1)\n",
    "db.head(3)"
   ]
  },
  {
   "cell_type": "markdown",
   "metadata": {},
   "source": [
    ">Since a lot of work will be done with the genre category, genres are reassigned into 1 of 8 genre categories using .str_contains()"
   ]
  },
  {
   "cell_type": "code",
   "execution_count": 174,
   "metadata": {},
   "outputs": [
    {
     "data": {
      "text/html": [
       "<div>\n",
       "<style scoped>\n",
       "    .dataframe tbody tr th:only-of-type {\n",
       "        vertical-align: middle;\n",
       "    }\n",
       "\n",
       "    .dataframe tbody tr th {\n",
       "        vertical-align: top;\n",
       "    }\n",
       "\n",
       "    .dataframe thead th {\n",
       "        text-align: right;\n",
       "    }\n",
       "</style>\n",
       "<table border=\"1\" class=\"dataframe\">\n",
       "  <thead>\n",
       "    <tr style=\"text-align: right;\">\n",
       "      <th></th>\n",
       "      <th>budget</th>\n",
       "      <th>revenue</th>\n",
       "      <th>original_title</th>\n",
       "      <th>director</th>\n",
       "      <th>runtime</th>\n",
       "      <th>genres</th>\n",
       "      <th>release_date</th>\n",
       "      <th>vote_average</th>\n",
       "      <th>release_year</th>\n",
       "    </tr>\n",
       "  </thead>\n",
       "  <tbody>\n",
       "    <tr>\n",
       "      <th>0</th>\n",
       "      <td>150000000</td>\n",
       "      <td>1513528810</td>\n",
       "      <td>Jurassic World</td>\n",
       "      <td>Colin Trevorrow</td>\n",
       "      <td>124</td>\n",
       "      <td>Science Fiction</td>\n",
       "      <td>6/9/2015</td>\n",
       "      <td>6.5</td>\n",
       "      <td>2015</td>\n",
       "    </tr>\n",
       "    <tr>\n",
       "      <th>1</th>\n",
       "      <td>150000000</td>\n",
       "      <td>378436354</td>\n",
       "      <td>Mad Max: Fury Road</td>\n",
       "      <td>George Miller</td>\n",
       "      <td>120</td>\n",
       "      <td>Science Fiction</td>\n",
       "      <td>5/13/2015</td>\n",
       "      <td>7.1</td>\n",
       "      <td>2015</td>\n",
       "    </tr>\n",
       "    <tr>\n",
       "      <th>2</th>\n",
       "      <td>110000000</td>\n",
       "      <td>295238201</td>\n",
       "      <td>Insurgent</td>\n",
       "      <td>Robert Schwentke</td>\n",
       "      <td>119</td>\n",
       "      <td>Science Fiction</td>\n",
       "      <td>3/18/2015</td>\n",
       "      <td>6.3</td>\n",
       "      <td>2015</td>\n",
       "    </tr>\n",
       "    <tr>\n",
       "      <th>3</th>\n",
       "      <td>200000000</td>\n",
       "      <td>2068178225</td>\n",
       "      <td>Star Wars: The Force Awakens</td>\n",
       "      <td>J.J. Abrams</td>\n",
       "      <td>136</td>\n",
       "      <td>Science Fiction</td>\n",
       "      <td>12/15/2015</td>\n",
       "      <td>7.5</td>\n",
       "      <td>2015</td>\n",
       "    </tr>\n",
       "    <tr>\n",
       "      <th>4</th>\n",
       "      <td>190000000</td>\n",
       "      <td>1506249360</td>\n",
       "      <td>Furious 7</td>\n",
       "      <td>James Wan</td>\n",
       "      <td>137</td>\n",
       "      <td>Thriller</td>\n",
       "      <td>4/1/2015</td>\n",
       "      <td>7.3</td>\n",
       "      <td>2015</td>\n",
       "    </tr>\n",
       "  </tbody>\n",
       "</table>\n",
       "</div>"
      ],
      "text/plain": [
       "      budget     revenue                original_title          director  \\\n",
       "0  150000000  1513528810                Jurassic World   Colin Trevorrow   \n",
       "1  150000000   378436354            Mad Max: Fury Road     George Miller   \n",
       "2  110000000   295238201                     Insurgent  Robert Schwentke   \n",
       "3  200000000  2068178225  Star Wars: The Force Awakens       J.J. Abrams   \n",
       "4  190000000  1506249360                     Furious 7         James Wan   \n",
       "\n",
       "   runtime           genres release_date  vote_average  release_year  \n",
       "0      124  Science Fiction     6/9/2015           6.5          2015  \n",
       "1      120  Science Fiction    5/13/2015           7.1          2015  \n",
       "2      119  Science Fiction    3/18/2015           6.3          2015  \n",
       "3      136  Science Fiction   12/15/2015           7.5          2015  \n",
       "4      137         Thriller     4/1/2015           7.3          2015  "
      ]
     },
     "execution_count": 174,
     "metadata": {},
     "output_type": "execute_result"
    }
   ],
   "source": [
    "db.loc[db['genres'].str.contains('Drama', case=False), 'genres' ]= 'Drama'\n",
    "db.loc[db['genres'].str.contains('Comedy', case=False), 'genres' ]= 'Comedy'\n",
    "db.loc[db['genres'].str.contains('Science Fiction', case=False), 'genres' ]= 'Science Fiction'\n",
    "db.loc[db['genres'].str.contains('Thriller', case=False), 'genres' ]= 'Thriller'\n",
    "db.loc[db['genres'].str.contains('Horror', case=False), 'genres' ]= 'Horror'\n",
    "db.loc[db['genres'].str.contains('Action',case=False), 'genres' ]= 'Action/Adventure',\n",
    "db.loc[db['genres'].str.contains('Adventure',case=False), 'genres' ]= 'Action/Adventure',\n",
    "db.loc[db['genres'].str.contains('Romance', case=False), 'genres' ]= 'Rom-Com'\n",
    "db.loc[db['genres'].str.contains('Animation', case=False), 'genres' ]= 'Animation'\n",
    "db.loc[db['genres'].str.contains('Family', case=False), 'genres' ]= 'Family'\n",
    "db.loc[db['genres'].str.contains('Fantasy', case=False), 'genres' ]= 'Fantasy'\n",
    "db.head(5)"
   ]
  },
  {
   "cell_type": "markdown",
   "metadata": {},
   "source": [
    "#### Sort the data by the highest average vote\n",
    "+ sort the list in descending order so the highest average vote appears at the top of the data"
   ]
  },
  {
   "cell_type": "code",
   "execution_count": 175,
   "metadata": {},
   "outputs": [
    {
     "data": {
      "text/html": [
       "<div>\n",
       "<style scoped>\n",
       "    .dataframe tbody tr th:only-of-type {\n",
       "        vertical-align: middle;\n",
       "    }\n",
       "\n",
       "    .dataframe tbody tr th {\n",
       "        vertical-align: top;\n",
       "    }\n",
       "\n",
       "    .dataframe thead th {\n",
       "        text-align: right;\n",
       "    }\n",
       "</style>\n",
       "<table border=\"1\" class=\"dataframe\">\n",
       "  <thead>\n",
       "    <tr style=\"text-align: right;\">\n",
       "      <th></th>\n",
       "      <th>budget</th>\n",
       "      <th>revenue</th>\n",
       "      <th>original_title</th>\n",
       "      <th>director</th>\n",
       "      <th>runtime</th>\n",
       "      <th>genres</th>\n",
       "      <th>release_date</th>\n",
       "      <th>vote_average</th>\n",
       "      <th>release_year</th>\n",
       "    </tr>\n",
       "  </thead>\n",
       "  <tbody>\n",
       "    <tr>\n",
       "      <th>4178</th>\n",
       "      <td>25000000</td>\n",
       "      <td>28341469</td>\n",
       "      <td>The Shawshank Redemption</td>\n",
       "      <td>Frank Darabont</td>\n",
       "      <td>142</td>\n",
       "      <td>Drama</td>\n",
       "      <td>9/10/1994</td>\n",
       "      <td>8.4</td>\n",
       "      <td>1994</td>\n",
       "    </tr>\n",
       "    <tr>\n",
       "      <th>7269</th>\n",
       "      <td>6000000</td>\n",
       "      <td>245066411</td>\n",
       "      <td>The Godfather</td>\n",
       "      <td>Francis Ford Coppola</td>\n",
       "      <td>175</td>\n",
       "      <td>Drama</td>\n",
       "      <td>3/15/1972</td>\n",
       "      <td>8.3</td>\n",
       "      <td>1972</td>\n",
       "    </tr>\n",
       "    <tr>\n",
       "      <th>650</th>\n",
       "      <td>3300000</td>\n",
       "      <td>13993093</td>\n",
       "      <td>Whiplash</td>\n",
       "      <td>Damien Chazelle</td>\n",
       "      <td>105</td>\n",
       "      <td>Drama</td>\n",
       "      <td>10/10/2014</td>\n",
       "      <td>8.2</td>\n",
       "      <td>2014</td>\n",
       "    </tr>\n",
       "    <tr>\n",
       "      <th>4177</th>\n",
       "      <td>8000000</td>\n",
       "      <td>213928762</td>\n",
       "      <td>Pulp Fiction</td>\n",
       "      <td>Quentin Tarantino</td>\n",
       "      <td>154</td>\n",
       "      <td>Thriller</td>\n",
       "      <td>10/14/1994</td>\n",
       "      <td>8.1</td>\n",
       "      <td>1994</td>\n",
       "    </tr>\n",
       "    <tr>\n",
       "      <th>4179</th>\n",
       "      <td>55000000</td>\n",
       "      <td>677945399</td>\n",
       "      <td>Forrest Gump</td>\n",
       "      <td>Robert Zemeckis</td>\n",
       "      <td>142</td>\n",
       "      <td>Drama</td>\n",
       "      <td>7/6/1994</td>\n",
       "      <td>8.1</td>\n",
       "      <td>1994</td>\n",
       "    </tr>\n",
       "    <tr>\n",
       "      <th>2875</th>\n",
       "      <td>185000000</td>\n",
       "      <td>1001921825</td>\n",
       "      <td>The Dark Knight</td>\n",
       "      <td>Christopher Nolan</td>\n",
       "      <td>152</td>\n",
       "      <td>Drama</td>\n",
       "      <td>7/16/2008</td>\n",
       "      <td>8.1</td>\n",
       "      <td>2008</td>\n",
       "    </tr>\n",
       "    <tr>\n",
       "      <th>10222</th>\n",
       "      <td>22000000</td>\n",
       "      <td>321265768</td>\n",
       "      <td>Schindler's List</td>\n",
       "      <td>Steven Spielberg</td>\n",
       "      <td>195</td>\n",
       "      <td>Drama</td>\n",
       "      <td>11/29/1993</td>\n",
       "      <td>8.1</td>\n",
       "      <td>1993</td>\n",
       "    </tr>\n",
       "    <tr>\n",
       "      <th>9758</th>\n",
       "      <td>13000000</td>\n",
       "      <td>47542841</td>\n",
       "      <td>The Godfather: Part II</td>\n",
       "      <td>Francis Ford Coppola</td>\n",
       "      <td>200</td>\n",
       "      <td>Drama</td>\n",
       "      <td>12/20/1974</td>\n",
       "      <td>8.1</td>\n",
       "      <td>1974</td>\n",
       "    </tr>\n",
       "    <tr>\n",
       "      <th>2409</th>\n",
       "      <td>63000000</td>\n",
       "      <td>100853753</td>\n",
       "      <td>Fight Club</td>\n",
       "      <td>David Fincher</td>\n",
       "      <td>139</td>\n",
       "      <td>Drama</td>\n",
       "      <td>10/14/1999</td>\n",
       "      <td>8.1</td>\n",
       "      <td>1999</td>\n",
       "    </tr>\n",
       "    <tr>\n",
       "      <th>7309</th>\n",
       "      <td>18000000</td>\n",
       "      <td>538400000</td>\n",
       "      <td>The Empire Strikes Back</td>\n",
       "      <td>Irvin Kershner</td>\n",
       "      <td>124</td>\n",
       "      <td>Science Fiction</td>\n",
       "      <td>1/1/1980</td>\n",
       "      <td>8.0</td>\n",
       "      <td>1980</td>\n",
       "    </tr>\n",
       "  </tbody>\n",
       "</table>\n",
       "</div>"
      ],
      "text/plain": [
       "          budget     revenue            original_title              director  \\\n",
       "4178    25000000    28341469  The Shawshank Redemption        Frank Darabont   \n",
       "7269     6000000   245066411             The Godfather  Francis Ford Coppola   \n",
       "650      3300000    13993093                  Whiplash       Damien Chazelle   \n",
       "4177     8000000   213928762              Pulp Fiction     Quentin Tarantino   \n",
       "4179    55000000   677945399              Forrest Gump       Robert Zemeckis   \n",
       "2875   185000000  1001921825           The Dark Knight     Christopher Nolan   \n",
       "10222   22000000   321265768          Schindler's List      Steven Spielberg   \n",
       "9758    13000000    47542841    The Godfather: Part II  Francis Ford Coppola   \n",
       "2409    63000000   100853753                Fight Club         David Fincher   \n",
       "7309    18000000   538400000   The Empire Strikes Back        Irvin Kershner   \n",
       "\n",
       "       runtime           genres release_date  vote_average  release_year  \n",
       "4178       142            Drama    9/10/1994           8.4          1994  \n",
       "7269       175            Drama    3/15/1972           8.3          1972  \n",
       "650        105            Drama   10/10/2014           8.2          2014  \n",
       "4177       154         Thriller   10/14/1994           8.1          1994  \n",
       "4179       142            Drama     7/6/1994           8.1          1994  \n",
       "2875       152            Drama    7/16/2008           8.1          2008  \n",
       "10222      195            Drama   11/29/1993           8.1          1993  \n",
       "9758       200            Drama   12/20/1974           8.1          1974  \n",
       "2409       139            Drama   10/14/1999           8.1          1999  \n",
       "7309       124  Science Fiction     1/1/1980           8.0          1980  "
      ]
     },
     "execution_count": 175,
     "metadata": {},
     "output_type": "execute_result"
    }
   ],
   "source": [
    "db=db.sort_values(by=['vote_average'], ascending=False)\n",
    "db.head(10)"
   ]
  },
  {
   "cell_type": "markdown",
   "metadata": {},
   "source": [
    ">Adjust the revenue column to show a decimal of revenue in millions"
   ]
  },
  {
   "cell_type": "code",
   "execution_count": 176,
   "metadata": {},
   "outputs": [],
   "source": [
    "db.loc[:,'revenue'] /=10000000"
   ]
  },
  {
   "cell_type": "code",
   "execution_count": 177,
   "metadata": {},
   "outputs": [
    {
     "data": {
      "text/html": [
       "<div>\n",
       "<style scoped>\n",
       "    .dataframe tbody tr th:only-of-type {\n",
       "        vertical-align: middle;\n",
       "    }\n",
       "\n",
       "    .dataframe tbody tr th {\n",
       "        vertical-align: top;\n",
       "    }\n",
       "\n",
       "    .dataframe thead th {\n",
       "        text-align: right;\n",
       "    }\n",
       "</style>\n",
       "<table border=\"1\" class=\"dataframe\">\n",
       "  <thead>\n",
       "    <tr style=\"text-align: right;\">\n",
       "      <th></th>\n",
       "      <th>budget</th>\n",
       "      <th>revenue</th>\n",
       "      <th>original_title</th>\n",
       "      <th>director</th>\n",
       "      <th>runtime</th>\n",
       "      <th>genres</th>\n",
       "      <th>release_date</th>\n",
       "      <th>vote_average</th>\n",
       "      <th>release_year</th>\n",
       "    </tr>\n",
       "  </thead>\n",
       "  <tbody>\n",
       "    <tr>\n",
       "      <th>4178</th>\n",
       "      <td>25000000</td>\n",
       "      <td>2.834147</td>\n",
       "      <td>The Shawshank Redemption</td>\n",
       "      <td>Frank Darabont</td>\n",
       "      <td>142</td>\n",
       "      <td>Drama</td>\n",
       "      <td>9/10/1994</td>\n",
       "      <td>8.4</td>\n",
       "      <td>1994</td>\n",
       "    </tr>\n",
       "    <tr>\n",
       "      <th>7269</th>\n",
       "      <td>6000000</td>\n",
       "      <td>24.506641</td>\n",
       "      <td>The Godfather</td>\n",
       "      <td>Francis Ford Coppola</td>\n",
       "      <td>175</td>\n",
       "      <td>Drama</td>\n",
       "      <td>3/15/1972</td>\n",
       "      <td>8.3</td>\n",
       "      <td>1972</td>\n",
       "    </tr>\n",
       "    <tr>\n",
       "      <th>650</th>\n",
       "      <td>3300000</td>\n",
       "      <td>1.399309</td>\n",
       "      <td>Whiplash</td>\n",
       "      <td>Damien Chazelle</td>\n",
       "      <td>105</td>\n",
       "      <td>Drama</td>\n",
       "      <td>10/10/2014</td>\n",
       "      <td>8.2</td>\n",
       "      <td>2014</td>\n",
       "    </tr>\n",
       "    <tr>\n",
       "      <th>4177</th>\n",
       "      <td>8000000</td>\n",
       "      <td>21.392876</td>\n",
       "      <td>Pulp Fiction</td>\n",
       "      <td>Quentin Tarantino</td>\n",
       "      <td>154</td>\n",
       "      <td>Thriller</td>\n",
       "      <td>10/14/1994</td>\n",
       "      <td>8.1</td>\n",
       "      <td>1994</td>\n",
       "    </tr>\n",
       "    <tr>\n",
       "      <th>4179</th>\n",
       "      <td>55000000</td>\n",
       "      <td>67.794540</td>\n",
       "      <td>Forrest Gump</td>\n",
       "      <td>Robert Zemeckis</td>\n",
       "      <td>142</td>\n",
       "      <td>Drama</td>\n",
       "      <td>7/6/1994</td>\n",
       "      <td>8.1</td>\n",
       "      <td>1994</td>\n",
       "    </tr>\n",
       "  </tbody>\n",
       "</table>\n",
       "</div>"
      ],
      "text/plain": [
       "        budget    revenue            original_title              director  \\\n",
       "4178  25000000   2.834147  The Shawshank Redemption        Frank Darabont   \n",
       "7269   6000000  24.506641             The Godfather  Francis Ford Coppola   \n",
       "650    3300000   1.399309                  Whiplash       Damien Chazelle   \n",
       "4177   8000000  21.392876              Pulp Fiction     Quentin Tarantino   \n",
       "4179  55000000  67.794540              Forrest Gump       Robert Zemeckis   \n",
       "\n",
       "      runtime    genres release_date  vote_average  release_year  \n",
       "4178      142     Drama    9/10/1994           8.4          1994  \n",
       "7269      175     Drama    3/15/1972           8.3          1972  \n",
       "650       105     Drama   10/10/2014           8.2          2014  \n",
       "4177      154  Thriller   10/14/1994           8.1          1994  \n",
       "4179      142     Drama     7/6/1994           8.1          1994  "
      ]
     },
     "execution_count": 177,
     "metadata": {},
     "output_type": "execute_result"
    }
   ],
   "source": [
    "db.head(5)"
   ]
  },
  {
   "cell_type": "code",
   "execution_count": 178,
   "metadata": {},
   "outputs": [],
   "source": [
    "imdb=db.reset_index()"
   ]
  },
  {
   "cell_type": "code",
   "execution_count": 179,
   "metadata": {},
   "outputs": [],
   "source": [
    "imdb.to_csv('imdb.csv')"
   ]
  },
  {
   "cell_type": "markdown",
   "metadata": {},
   "source": [
    "<a id='eda'></a>\n",
    "## Exploratory Data Analysis\n",
    "\n",
    "### Questions 1:\n",
    " + a.What are the top 10 movies in this database based on vote average?\n",
    " + b.What are the top 10 movies with the highest revenue?"
   ]
  },
  {
   "cell_type": "markdown",
   "metadata": {},
   "source": [
    ">This is just a simple matter of sorting the cleaned data appropriately to display the answers. Listing the first 10 provides the 10 highest rated movies since the data was intended to be sorted this way."
   ]
  },
  {
   "cell_type": "code",
   "execution_count": 180,
   "metadata": {},
   "outputs": [
    {
     "data": {
      "text/html": [
       "<div>\n",
       "<style scoped>\n",
       "    .dataframe tbody tr th:only-of-type {\n",
       "        vertical-align: middle;\n",
       "    }\n",
       "\n",
       "    .dataframe tbody tr th {\n",
       "        vertical-align: top;\n",
       "    }\n",
       "\n",
       "    .dataframe thead th {\n",
       "        text-align: right;\n",
       "    }\n",
       "</style>\n",
       "<table border=\"1\" class=\"dataframe\">\n",
       "  <thead>\n",
       "    <tr style=\"text-align: right;\">\n",
       "      <th></th>\n",
       "      <th>index</th>\n",
       "      <th>budget</th>\n",
       "      <th>revenue</th>\n",
       "      <th>original_title</th>\n",
       "      <th>director</th>\n",
       "      <th>runtime</th>\n",
       "      <th>genres</th>\n",
       "      <th>release_date</th>\n",
       "      <th>vote_average</th>\n",
       "      <th>release_year</th>\n",
       "    </tr>\n",
       "  </thead>\n",
       "  <tbody>\n",
       "    <tr>\n",
       "      <th>0</th>\n",
       "      <td>4178</td>\n",
       "      <td>25000000</td>\n",
       "      <td>2.834147</td>\n",
       "      <td>The Shawshank Redemption</td>\n",
       "      <td>Frank Darabont</td>\n",
       "      <td>142</td>\n",
       "      <td>Drama</td>\n",
       "      <td>9/10/1994</td>\n",
       "      <td>8.4</td>\n",
       "      <td>1994</td>\n",
       "    </tr>\n",
       "    <tr>\n",
       "      <th>1</th>\n",
       "      <td>7269</td>\n",
       "      <td>6000000</td>\n",
       "      <td>24.506641</td>\n",
       "      <td>The Godfather</td>\n",
       "      <td>Francis Ford Coppola</td>\n",
       "      <td>175</td>\n",
       "      <td>Drama</td>\n",
       "      <td>3/15/1972</td>\n",
       "      <td>8.3</td>\n",
       "      <td>1972</td>\n",
       "    </tr>\n",
       "    <tr>\n",
       "      <th>2</th>\n",
       "      <td>650</td>\n",
       "      <td>3300000</td>\n",
       "      <td>1.399309</td>\n",
       "      <td>Whiplash</td>\n",
       "      <td>Damien Chazelle</td>\n",
       "      <td>105</td>\n",
       "      <td>Drama</td>\n",
       "      <td>10/10/2014</td>\n",
       "      <td>8.2</td>\n",
       "      <td>2014</td>\n",
       "    </tr>\n",
       "    <tr>\n",
       "      <th>3</th>\n",
       "      <td>4177</td>\n",
       "      <td>8000000</td>\n",
       "      <td>21.392876</td>\n",
       "      <td>Pulp Fiction</td>\n",
       "      <td>Quentin Tarantino</td>\n",
       "      <td>154</td>\n",
       "      <td>Thriller</td>\n",
       "      <td>10/14/1994</td>\n",
       "      <td>8.1</td>\n",
       "      <td>1994</td>\n",
       "    </tr>\n",
       "    <tr>\n",
       "      <th>4</th>\n",
       "      <td>4179</td>\n",
       "      <td>55000000</td>\n",
       "      <td>67.794540</td>\n",
       "      <td>Forrest Gump</td>\n",
       "      <td>Robert Zemeckis</td>\n",
       "      <td>142</td>\n",
       "      <td>Drama</td>\n",
       "      <td>7/6/1994</td>\n",
       "      <td>8.1</td>\n",
       "      <td>1994</td>\n",
       "    </tr>\n",
       "    <tr>\n",
       "      <th>5</th>\n",
       "      <td>2875</td>\n",
       "      <td>185000000</td>\n",
       "      <td>100.192183</td>\n",
       "      <td>The Dark Knight</td>\n",
       "      <td>Christopher Nolan</td>\n",
       "      <td>152</td>\n",
       "      <td>Drama</td>\n",
       "      <td>7/16/2008</td>\n",
       "      <td>8.1</td>\n",
       "      <td>2008</td>\n",
       "    </tr>\n",
       "    <tr>\n",
       "      <th>6</th>\n",
       "      <td>10222</td>\n",
       "      <td>22000000</td>\n",
       "      <td>32.126577</td>\n",
       "      <td>Schindler's List</td>\n",
       "      <td>Steven Spielberg</td>\n",
       "      <td>195</td>\n",
       "      <td>Drama</td>\n",
       "      <td>11/29/1993</td>\n",
       "      <td>8.1</td>\n",
       "      <td>1993</td>\n",
       "    </tr>\n",
       "    <tr>\n",
       "      <th>7</th>\n",
       "      <td>9758</td>\n",
       "      <td>13000000</td>\n",
       "      <td>4.754284</td>\n",
       "      <td>The Godfather: Part II</td>\n",
       "      <td>Francis Ford Coppola</td>\n",
       "      <td>200</td>\n",
       "      <td>Drama</td>\n",
       "      <td>12/20/1974</td>\n",
       "      <td>8.1</td>\n",
       "      <td>1974</td>\n",
       "    </tr>\n",
       "    <tr>\n",
       "      <th>8</th>\n",
       "      <td>2409</td>\n",
       "      <td>63000000</td>\n",
       "      <td>10.085375</td>\n",
       "      <td>Fight Club</td>\n",
       "      <td>David Fincher</td>\n",
       "      <td>139</td>\n",
       "      <td>Drama</td>\n",
       "      <td>10/14/1999</td>\n",
       "      <td>8.1</td>\n",
       "      <td>1999</td>\n",
       "    </tr>\n",
       "    <tr>\n",
       "      <th>9</th>\n",
       "      <td>7309</td>\n",
       "      <td>18000000</td>\n",
       "      <td>53.840000</td>\n",
       "      <td>The Empire Strikes Back</td>\n",
       "      <td>Irvin Kershner</td>\n",
       "      <td>124</td>\n",
       "      <td>Science Fiction</td>\n",
       "      <td>1/1/1980</td>\n",
       "      <td>8.0</td>\n",
       "      <td>1980</td>\n",
       "    </tr>\n",
       "  </tbody>\n",
       "</table>\n",
       "</div>"
      ],
      "text/plain": [
       "   index     budget     revenue            original_title  \\\n",
       "0   4178   25000000    2.834147  The Shawshank Redemption   \n",
       "1   7269    6000000   24.506641             The Godfather   \n",
       "2    650    3300000    1.399309                  Whiplash   \n",
       "3   4177    8000000   21.392876              Pulp Fiction   \n",
       "4   4179   55000000   67.794540              Forrest Gump   \n",
       "5   2875  185000000  100.192183           The Dark Knight   \n",
       "6  10222   22000000   32.126577          Schindler's List   \n",
       "7   9758   13000000    4.754284    The Godfather: Part II   \n",
       "8   2409   63000000   10.085375                Fight Club   \n",
       "9   7309   18000000   53.840000   The Empire Strikes Back   \n",
       "\n",
       "               director  runtime           genres release_date  vote_average  \\\n",
       "0        Frank Darabont      142            Drama    9/10/1994           8.4   \n",
       "1  Francis Ford Coppola      175            Drama    3/15/1972           8.3   \n",
       "2       Damien Chazelle      105            Drama   10/10/2014           8.2   \n",
       "3     Quentin Tarantino      154         Thriller   10/14/1994           8.1   \n",
       "4       Robert Zemeckis      142            Drama     7/6/1994           8.1   \n",
       "5     Christopher Nolan      152            Drama    7/16/2008           8.1   \n",
       "6      Steven Spielberg      195            Drama   11/29/1993           8.1   \n",
       "7  Francis Ford Coppola      200            Drama   12/20/1974           8.1   \n",
       "8         David Fincher      139            Drama   10/14/1999           8.1   \n",
       "9        Irvin Kershner      124  Science Fiction     1/1/1980           8.0   \n",
       "\n",
       "   release_year  \n",
       "0          1994  \n",
       "1          1972  \n",
       "2          2014  \n",
       "3          1994  \n",
       "4          1994  \n",
       "5          2008  \n",
       "6          1993  \n",
       "7          1974  \n",
       "8          1999  \n",
       "9          1980  "
      ]
     },
     "execution_count": 180,
     "metadata": {},
     "output_type": "execute_result"
    }
   ],
   "source": [
    "imdb.head(10)"
   ]
  },
  {
   "cell_type": "markdown",
   "metadata": {},
   "source": [
    ">The results here make sense. Based on my own knowlede of movies these are popular well made films, many of which have oscars. To check my work I referenced imdb.com to see if their data differed, the listed the top 10 movies as:\n",
    "\n",
    "           + The Shawshank redemption\n",
    "           + The Godfather\n",
    "           + The Dark Knight\n",
    "           + The Godfather: pt. II\n",
    "           + LOTR: Return of the King\n",
    "           + Pulp Fiction\n",
    "           + Schindler's List \n",
    "           + 12 Angry Men\n",
    "           + Inception\n",
    "           + Fight Club\n",
    "\n",
    "> So there are some discrepancies which could be caused by a variety of things,a major factor being the age of the data. There is no information beyond  2015."
   ]
  },
  {
   "cell_type": "markdown",
   "metadata": {},
   "source": [
    "To adress the revenue part of question 1 the data can be resorted easily."
   ]
  },
  {
   "cell_type": "code",
   "execution_count": 181,
   "metadata": {},
   "outputs": [
    {
     "data": {
      "text/html": [
       "<div>\n",
       "<style scoped>\n",
       "    .dataframe tbody tr th:only-of-type {\n",
       "        vertical-align: middle;\n",
       "    }\n",
       "\n",
       "    .dataframe tbody tr th {\n",
       "        vertical-align: top;\n",
       "    }\n",
       "\n",
       "    .dataframe thead th {\n",
       "        text-align: right;\n",
       "    }\n",
       "</style>\n",
       "<table border=\"1\" class=\"dataframe\">\n",
       "  <thead>\n",
       "    <tr style=\"text-align: right;\">\n",
       "      <th></th>\n",
       "      <th>index</th>\n",
       "      <th>budget</th>\n",
       "      <th>revenue</th>\n",
       "      <th>original_title</th>\n",
       "      <th>director</th>\n",
       "      <th>runtime</th>\n",
       "      <th>genres</th>\n",
       "      <th>release_date</th>\n",
       "      <th>vote_average</th>\n",
       "      <th>release_year</th>\n",
       "    </tr>\n",
       "  </thead>\n",
       "  <tbody>\n",
       "    <tr>\n",
       "      <th>222</th>\n",
       "      <td>1386</td>\n",
       "      <td>237000000</td>\n",
       "      <td>278.150585</td>\n",
       "      <td>Avatar</td>\n",
       "      <td>James Cameron</td>\n",
       "      <td>162</td>\n",
       "      <td>Science Fiction</td>\n",
       "      <td>12/10/2009</td>\n",
       "      <td>7.1</td>\n",
       "      <td>2009</td>\n",
       "    </tr>\n",
       "    <tr>\n",
       "      <th>109</th>\n",
       "      <td>3</td>\n",
       "      <td>200000000</td>\n",
       "      <td>206.817823</td>\n",
       "      <td>Star Wars: The Force Awakens</td>\n",
       "      <td>J.J. Abrams</td>\n",
       "      <td>136</td>\n",
       "      <td>Science Fiction</td>\n",
       "      <td>12/15/2015</td>\n",
       "      <td>7.5</td>\n",
       "      <td>2015</td>\n",
       "    </tr>\n",
       "    <tr>\n",
       "      <th>149</th>\n",
       "      <td>5231</td>\n",
       "      <td>200000000</td>\n",
       "      <td>184.503419</td>\n",
       "      <td>Titanic</td>\n",
       "      <td>James Cameron</td>\n",
       "      <td>194</td>\n",
       "      <td>Drama</td>\n",
       "      <td>11/18/1997</td>\n",
       "      <td>7.3</td>\n",
       "      <td>1997</td>\n",
       "    </tr>\n",
       "    <tr>\n",
       "      <th>140</th>\n",
       "      <td>4361</td>\n",
       "      <td>220000000</td>\n",
       "      <td>151.955791</td>\n",
       "      <td>The Avengers</td>\n",
       "      <td>Joss Whedon</td>\n",
       "      <td>143</td>\n",
       "      <td>Science Fiction</td>\n",
       "      <td>4/25/2012</td>\n",
       "      <td>7.3</td>\n",
       "      <td>2012</td>\n",
       "    </tr>\n",
       "    <tr>\n",
       "      <th>355</th>\n",
       "      <td>0</td>\n",
       "      <td>150000000</td>\n",
       "      <td>151.352881</td>\n",
       "      <td>Jurassic World</td>\n",
       "      <td>Colin Trevorrow</td>\n",
       "      <td>124</td>\n",
       "      <td>Science Fiction</td>\n",
       "      <td>6/9/2015</td>\n",
       "      <td>6.5</td>\n",
       "      <td>2015</td>\n",
       "    </tr>\n",
       "    <tr>\n",
       "      <th>142</th>\n",
       "      <td>4</td>\n",
       "      <td>190000000</td>\n",
       "      <td>150.624936</td>\n",
       "      <td>Furious 7</td>\n",
       "      <td>James Wan</td>\n",
       "      <td>137</td>\n",
       "      <td>Thriller</td>\n",
       "      <td>4/1/2015</td>\n",
       "      <td>7.3</td>\n",
       "      <td>2015</td>\n",
       "    </tr>\n",
       "    <tr>\n",
       "      <th>130</th>\n",
       "      <td>14</td>\n",
       "      <td>280000000</td>\n",
       "      <td>140.503577</td>\n",
       "      <td>Avengers: Age of Ultron</td>\n",
       "      <td>Joss Whedon</td>\n",
       "      <td>141</td>\n",
       "      <td>Science Fiction</td>\n",
       "      <td>4/22/2015</td>\n",
       "      <td>7.4</td>\n",
       "      <td>2015</td>\n",
       "    </tr>\n",
       "    <tr>\n",
       "      <th>64</th>\n",
       "      <td>3374</td>\n",
       "      <td>125000000</td>\n",
       "      <td>132.781782</td>\n",
       "      <td>Harry Potter and the Deathly Hallows: Part 2</td>\n",
       "      <td>David Yates</td>\n",
       "      <td>130</td>\n",
       "      <td>Action/Adventure</td>\n",
       "      <td>7/7/2011</td>\n",
       "      <td>7.7</td>\n",
       "      <td>2011</td>\n",
       "    </tr>\n",
       "    <tr>\n",
       "      <th>101</th>\n",
       "      <td>5422</td>\n",
       "      <td>150000000</td>\n",
       "      <td>127.421901</td>\n",
       "      <td>Frozen</td>\n",
       "      <td>Chris Buck|Jennifer Lee</td>\n",
       "      <td>102</td>\n",
       "      <td>Action/Adventure</td>\n",
       "      <td>11/27/2013</td>\n",
       "      <td>7.5</td>\n",
       "      <td>2013</td>\n",
       "    </tr>\n",
       "    <tr>\n",
       "      <th>255</th>\n",
       "      <td>5425</td>\n",
       "      <td>200000000</td>\n",
       "      <td>121.543999</td>\n",
       "      <td>Iron Man 3</td>\n",
       "      <td>Shane Black</td>\n",
       "      <td>130</td>\n",
       "      <td>Science Fiction</td>\n",
       "      <td>4/18/2013</td>\n",
       "      <td>6.9</td>\n",
       "      <td>2013</td>\n",
       "    </tr>\n",
       "  </tbody>\n",
       "</table>\n",
       "</div>"
      ],
      "text/plain": [
       "     index     budget     revenue  \\\n",
       "222   1386  237000000  278.150585   \n",
       "109      3  200000000  206.817823   \n",
       "149   5231  200000000  184.503419   \n",
       "140   4361  220000000  151.955791   \n",
       "355      0  150000000  151.352881   \n",
       "142      4  190000000  150.624936   \n",
       "130     14  280000000  140.503577   \n",
       "64    3374  125000000  132.781782   \n",
       "101   5422  150000000  127.421901   \n",
       "255   5425  200000000  121.543999   \n",
       "\n",
       "                                   original_title                 director  \\\n",
       "222                                        Avatar            James Cameron   \n",
       "109                  Star Wars: The Force Awakens              J.J. Abrams   \n",
       "149                                       Titanic            James Cameron   \n",
       "140                                  The Avengers              Joss Whedon   \n",
       "355                                Jurassic World          Colin Trevorrow   \n",
       "142                                     Furious 7                James Wan   \n",
       "130                       Avengers: Age of Ultron              Joss Whedon   \n",
       "64   Harry Potter and the Deathly Hallows: Part 2              David Yates   \n",
       "101                                        Frozen  Chris Buck|Jennifer Lee   \n",
       "255                                    Iron Man 3              Shane Black   \n",
       "\n",
       "     runtime            genres release_date  vote_average  release_year  \n",
       "222      162   Science Fiction   12/10/2009           7.1          2009  \n",
       "109      136   Science Fiction   12/15/2015           7.5          2015  \n",
       "149      194             Drama   11/18/1997           7.3          1997  \n",
       "140      143   Science Fiction    4/25/2012           7.3          2012  \n",
       "355      124   Science Fiction     6/9/2015           6.5          2015  \n",
       "142      137          Thriller     4/1/2015           7.3          2015  \n",
       "130      141   Science Fiction    4/22/2015           7.4          2015  \n",
       "64       130  Action/Adventure     7/7/2011           7.7          2011  \n",
       "101      102  Action/Adventure   11/27/2013           7.5          2013  \n",
       "255      130   Science Fiction    4/18/2013           6.9          2013  "
      ]
     },
     "execution_count": 181,
     "metadata": {},
     "output_type": "execute_result"
    }
   ],
   "source": [
    "imdb_rev=imdb.sort_values(by=['revenue'], ascending=False)\n",
    "imdb_rev.head(10)"
   ]
  },
  {
   "cell_type": "markdown",
   "metadata": {},
   "source": [
    ">Data here appears accurate--- but I decided to compare to IMDb again to make sure I am on the right path.\n",
    "\n",
    ">IMDb lists the top 10 films by revenue are:\n",
    "\n",
    "    + Avatar\n",
    "    + Titanic\n",
    "    + Star Wars\n",
    "    + Jurassic World\n",
    "    + The Avengers\n",
    "    + Furious 7 \n",
    "    + Avengers: Age of Ultron\n",
    "    + Harry Potter and the Deathly Hallows: Pt. 2\n",
    "    + Frozen\n",
    "    + Iron Man 3\n",
    "    \n",
    " >There are still some discrepancies between my DataFrame and the IMDb data, but this is close enough that I can assume the data I have has been sorted correctly."
   ]
  },
  {
   "cell_type": "markdown",
   "metadata": {},
   "source": [
    "### Questions 2:\n",
    " + Which genre has the highest rating on average?"
   ]
  },
  {
   "cell_type": "markdown",
   "metadata": {},
   "source": [
    ">.groupby() can provide information about the highest rated \n",
    "genres and help visualize it."
   ]
  },
  {
   "cell_type": "code",
   "execution_count": 182,
   "metadata": {},
   "outputs": [
    {
     "data": {
      "text/plain": [
       "genres\n",
       "Action/Adventure    6.732787\n",
       "Animation           6.892308\n",
       "Comedy              6.620536\n",
       "Drama               7.145503\n",
       "Horror              6.280000\n",
       "Rom-Com             6.966667\n",
       "Science Fiction     6.583051\n",
       "Thriller            6.636508\n",
       "Name: vote_average, dtype: float64"
      ]
     },
     "execution_count": 182,
     "metadata": {},
     "output_type": "execute_result"
    }
   ],
   "source": [
    "imdb.groupby('genres').mean()['vote_average']"
   ]
  },
  {
   "cell_type": "markdown",
   "metadata": {},
   "source": [
    ">This give a clear picture of the highest rated genres, but things always look better in color"
   ]
  },
  {
   "cell_type": "code",
   "execution_count": 183,
   "metadata": {},
   "outputs": [
    {
     "data": {
      "image/png": "[encoded data removed]",
      "text/plain": [
       "<Figure size 432x288 with 1 Axes>"
      ]
     },
     "metadata": {
      "needs_background": "light"
     },
     "output_type": "display_data"
    }
   ],
   "source": [
    "rbw=['indianred', 'orange', 'gold', 'yellow', 'yellowgreen','darkcyan', 'royalblue', 'mediumpurple', 'mediumorchid','purple']\n",
    "mono=['darkslategray', 'darkslategrey', 'teal', 'darkcyan', 'cadetblue','c', 'darkturquoise', 'mediumturquoise', 'aqua', 'paleturquoise']\n",
    "    \n",
    "    \n",
    "imdb.groupby('genres')['vote_average'].mean().plot(kind='bar', title='Highest-rated Genres by Average Rating', color=rbw)\n",
    "plt.xlabel('Genre Category')\n",
    "plt.ylabel('Average Voter Rating');"
   ]
  },
  {
   "cell_type": "markdown",
   "metadata": {},
   "source": [
    ">The plot makes it easier to determine that Drama has the highest rating followed by Rom-Com (who knew!?) and Animation"
   ]
  },
  {
   "cell_type": "markdown",
   "metadata": {},
   "source": [
    "### Questions 3:\n",
    " + a. In the last 10 years of this data set, which year had the highest revenue?\n",
    " + b. Which year had the highest revenue proportional to the number of films released?"
   ]
  },
  {
   "cell_type": "markdown",
   "metadata": {},
   "source": [
    ">Create a new dataframe that shows the average revenue per year, over the last decade of data"
   ]
  },
  {
   "cell_type": "code",
   "execution_count": 184,
   "metadata": {},
   "outputs": [
    {
     "data": {
      "text/html": [
       "<div>\n",
       "<style scoped>\n",
       "    .dataframe tbody tr th:only-of-type {\n",
       "        vertical-align: middle;\n",
       "    }\n",
       "\n",
       "    .dataframe tbody tr th {\n",
       "        vertical-align: top;\n",
       "    }\n",
       "\n",
       "    .dataframe thead th {\n",
       "        text-align: right;\n",
       "    }\n",
       "</style>\n",
       "<table border=\"1\" class=\"dataframe\">\n",
       "  <thead>\n",
       "    <tr style=\"text-align: right;\">\n",
       "      <th></th>\n",
       "      <th>release_year</th>\n",
       "      <th>revenue</th>\n",
       "    </tr>\n",
       "  </thead>\n",
       "  <tbody>\n",
       "    <tr>\n",
       "      <th>0</th>\n",
       "      <td>2006</td>\n",
       "      <td>38.435533</td>\n",
       "    </tr>\n",
       "    <tr>\n",
       "      <th>1</th>\n",
       "      <td>2007</td>\n",
       "      <td>45.680348</td>\n",
       "    </tr>\n",
       "    <tr>\n",
       "      <th>2</th>\n",
       "      <td>2008</td>\n",
       "      <td>40.491300</td>\n",
       "    </tr>\n",
       "    <tr>\n",
       "      <th>3</th>\n",
       "      <td>2009</td>\n",
       "      <td>51.694984</td>\n",
       "    </tr>\n",
       "    <tr>\n",
       "      <th>4</th>\n",
       "      <td>2010</td>\n",
       "      <td>38.863641</td>\n",
       "    </tr>\n",
       "    <tr>\n",
       "      <th>5</th>\n",
       "      <td>2011</td>\n",
       "      <td>35.507864</td>\n",
       "    </tr>\n",
       "    <tr>\n",
       "      <th>6</th>\n",
       "      <td>2012</td>\n",
       "      <td>39.880861</td>\n",
       "    </tr>\n",
       "    <tr>\n",
       "      <th>7</th>\n",
       "      <td>2013</td>\n",
       "      <td>29.573182</td>\n",
       "    </tr>\n",
       "    <tr>\n",
       "      <th>8</th>\n",
       "      <td>2014</td>\n",
       "      <td>31.286511</td>\n",
       "    </tr>\n",
       "    <tr>\n",
       "      <th>9</th>\n",
       "      <td>2015</td>\n",
       "      <td>42.287208</td>\n",
       "    </tr>\n",
       "  </tbody>\n",
       "</table>\n",
       "</div>"
      ],
      "text/plain": [
       "   release_year    revenue\n",
       "0          2006  38.435533\n",
       "1          2007  45.680348\n",
       "2          2008  40.491300\n",
       "3          2009  51.694984\n",
       "4          2010  38.863641\n",
       "5          2011  35.507864\n",
       "6          2012  39.880861\n",
       "7          2013  29.573182\n",
       "8          2014  31.286511\n",
       "9          2015  42.287208"
      ]
     },
     "execution_count": 184,
     "metadata": {},
     "output_type": "execute_result"
    }
   ],
   "source": [
    "decade=imdb.query('release_year > 2005')\n",
    "decade_avg=decade.groupby('release_year', as_index=False)['revenue'].mean()\n",
    "decade_avg.head(10)"
   ]
  },
  {
   "cell_type": "markdown",
   "metadata": {},
   "source": [
    ">Visualize the data with another simple Bar chart:"
   ]
  },
  {
   "cell_type": "code",
   "execution_count": 185,
   "metadata": {},
   "outputs": [
    {
     "data": {
      "image/png": "[encoded data removed]",
      "text/plain": [
       "<Figure size 432x288 with 1 Axes>"
      ]
     },
     "metadata": {
      "needs_background": "light"
     },
     "output_type": "display_data"
    }
   ],
   "source": [
    "decade_avg.groupby('release_year')['revenue'].mean().plot(kind='bar', title='Revenue per year since 2005', color=mono)\n",
    "plt.xlabel('Year')\n",
    "plt.ylabel('Revenue(millions)');"
   ]
  },
  {
   "cell_type": "markdown",
   "metadata": {},
   "source": [
    ">Looks like 2009 was a big year, but before moving on to question 4 I would like to make sure that 2009 had the highest revenue proportional to the number of films released."
   ]
  },
  {
   "cell_type": "markdown",
   "metadata": {},
   "source": [
    ">Create an array of the average revenue per release year"
   ]
  },
  {
   "cell_type": "code",
   "execution_count": 186,
   "metadata": {},
   "outputs": [
    {
     "data": {
      "text/plain": [
       "release_year\n",
       "2006    38.435533\n",
       "2007    45.680348\n",
       "2008    40.491300\n",
       "2009    51.694984\n",
       "2010    38.863641\n",
       "2011    35.507864\n",
       "2012    39.880861\n",
       "2013    29.573182\n",
       "2014    31.286511\n",
       "2015    42.287208\n",
       "Name: revenue, dtype: float64"
      ]
     },
     "execution_count": 186,
     "metadata": {},
     "output_type": "execute_result"
    }
   ],
   "source": [
    "revenue_yr=decade.groupby('release_year').mean()['revenue']\n",
    "revenue_yr"
   ]
  },
  {
   "cell_type": "markdown",
   "metadata": {},
   "source": [
    ">Create a second array of the number of films released each year"
   ]
  },
  {
   "cell_type": "code",
   "execution_count": 187,
   "metadata": {},
   "outputs": [
    {
     "data": {
      "text/plain": [
       "release_year\n",
       "2006    17\n",
       "2007    20\n",
       "2008    21\n",
       "2009    25\n",
       "2010    34\n",
       "2011    39\n",
       "2012    47\n",
       "2013    64\n",
       "2014    57\n",
       "2015    48\n",
       "Name: revenue, dtype: int64"
      ]
     },
     "execution_count": 187,
     "metadata": {},
     "output_type": "execute_result"
    }
   ],
   "source": [
    "count_yr=decade.groupby('release_year').count()['revenue']\n",
    "count_yr"
   ]
  },
  {
   "cell_type": "markdown",
   "metadata": {},
   "source": [
    ">Divide the average revenue by the count of films to get the proportional value for each year.\n",
    ">I have decided to create my own function called proportion() to clean up my coding. "
   ]
  },
  {
   "cell_type": "code",
   "execution_count": 188,
   "metadata": {},
   "outputs": [],
   "source": [
    "def proportion(year): ### year is the required argument\n",
    "    return revenue_yr[year]/count_yr[year]  ### Since revenue_yr and count_yr were defined earlier the return value will be\n",
    "                                            ###the revenue of the input year divided by the count of the input year. Providing the\n",
    "                                            ###proportional data needed to plot correctly."
   ]
  },
  {
   "cell_type": "markdown",
   "metadata": {},
   "source": [
    ">Test the function to make sure it works correctly"
   ]
  },
  {
   "cell_type": "code",
   "execution_count": 189,
   "metadata": {},
   "outputs": [
    {
     "data": {
      "text/plain": [
       "2.2609136788927335"
      ]
     },
     "execution_count": 189,
     "metadata": {},
     "output_type": "execute_result"
    }
   ],
   "source": [
    "sixpro=proportion(2006)\n",
    "sixpro"
   ]
  },
  {
   "cell_type": "markdown",
   "metadata": {},
   "source": [
    ">Create a list called proportion_value using the user created function proportion:"
   ]
  },
  {
   "cell_type": "code",
   "execution_count": 190,
   "metadata": {},
   "outputs": [],
   "source": [
    "years=[2006, 2007, 2008, 2009, 2010, 2011, 2012, 2013, 2014, 2015]\n",
    "proportion_value=proportion(years)"
   ]
  },
  {
   "cell_type": "code",
   "execution_count": 191,
   "metadata": {},
   "outputs": [
    {
     "data": {
      "text/plain": [
       "release_year\n",
       "2006    2.260914\n",
       "2007    2.284017\n",
       "2008    1.928157\n",
       "2009    2.067799\n",
       "2010    1.143048\n",
       "2011    0.910458\n",
       "2012    0.848529\n",
       "2013    0.462081\n",
       "2014    0.548886\n",
       "2015    0.880984\n",
       "Name: revenue, dtype: float64"
      ]
     },
     "execution_count": 191,
     "metadata": {},
     "output_type": "execute_result"
    }
   ],
   "source": [
    "proportion_value"
   ]
  },
  {
   "cell_type": "code",
   "execution_count": 192,
   "metadata": {},
   "outputs": [
    {
     "data": {
      "image/png": "[encoded data removed]",
      "text/plain": [
       "<Figure size 432x288 with 1 Axes>"
      ]
     },
     "metadata": {
      "needs_background": "light"
     },
     "output_type": "display_data"
    }
   ],
   "source": [
    "plt.bar(years, proportion_value, color=mono)\n",
    "plt.title('Proportional revenue per year since 2005')\n",
    "plt.xlabel('Year')\n",
    "plt.ylabel('Revenue/Film Ct.');"
   ]
  },
  {
   "cell_type": "markdown",
   "metadata": {},
   "source": [
    ">Proportionally 2007 had higher revenue than 2009"
   ]
  },
  {
   "cell_type": "markdown",
   "metadata": {},
   "source": [
    "### Questions 4:\n",
    " + In this year, what are the top 5 films by revenue and what are their ratings? What are the top 5 films by rating, and what is their revenue? Is there any overlap?"
   ]
  },
  {
   "cell_type": "markdown",
   "metadata": {},
   "source": [
    "### 2007 Comparisons"
   ]
  },
  {
   "cell_type": "markdown",
   "metadata": {},
   "source": [
    ">Visualize the rating and revenue of the highest grossing films of 2007"
   ]
  },
  {
   "cell_type": "code",
   "execution_count": 193,
   "metadata": {},
   "outputs": [
    {
     "data": {
      "text/html": [
       "<div>\n",
       "<style scoped>\n",
       "    .dataframe tbody tr th:only-of-type {\n",
       "        vertical-align: middle;\n",
       "    }\n",
       "\n",
       "    .dataframe tbody tr th {\n",
       "        vertical-align: top;\n",
       "    }\n",
       "\n",
       "    .dataframe thead th {\n",
       "        text-align: right;\n",
       "    }\n",
       "</style>\n",
       "<table border=\"1\" class=\"dataframe\">\n",
       "  <thead>\n",
       "    <tr style=\"text-align: right;\">\n",
       "      <th></th>\n",
       "      <th>index</th>\n",
       "      <th>budget</th>\n",
       "      <th>revenue</th>\n",
       "      <th>original_title</th>\n",
       "      <th>director</th>\n",
       "      <th>runtime</th>\n",
       "      <th>genres</th>\n",
       "      <th>release_date</th>\n",
       "      <th>vote_average</th>\n",
       "      <th>release_year</th>\n",
       "    </tr>\n",
       "  </thead>\n",
       "  <tbody>\n",
       "    <tr>\n",
       "      <th>287</th>\n",
       "      <td>7387</td>\n",
       "      <td>300000000</td>\n",
       "      <td>96.100000</td>\n",
       "      <td>Pirates of the Caribbean: At World's End</td>\n",
       "      <td>Gore Verbinski</td>\n",
       "      <td>169</td>\n",
       "      <td>Action/Adventure</td>\n",
       "      <td>5/19/2007</td>\n",
       "      <td>6.8</td>\n",
       "      <td>2007</td>\n",
       "    </tr>\n",
       "    <tr>\n",
       "      <th>186</th>\n",
       "      <td>7388</td>\n",
       "      <td>150000000</td>\n",
       "      <td>93.821274</td>\n",
       "      <td>Harry Potter and the Order of the Phoenix</td>\n",
       "      <td>David Yates</td>\n",
       "      <td>138</td>\n",
       "      <td>Action/Adventure</td>\n",
       "      <td>6/28/2007</td>\n",
       "      <td>7.2</td>\n",
       "      <td>2007</td>\n",
       "    </tr>\n",
       "    <tr>\n",
       "      <th>518</th>\n",
       "      <td>7394</td>\n",
       "      <td>258000000</td>\n",
       "      <td>89.087163</td>\n",
       "      <td>Spider-Man 3</td>\n",
       "      <td>Sam Raimi</td>\n",
       "      <td>139</td>\n",
       "      <td>Action/Adventure</td>\n",
       "      <td>5/1/2007</td>\n",
       "      <td>5.8</td>\n",
       "      <td>2007</td>\n",
       "    </tr>\n",
       "    <tr>\n",
       "      <th>520</th>\n",
       "      <td>7411</td>\n",
       "      <td>160000000</td>\n",
       "      <td>79.895816</td>\n",
       "      <td>Shrek the Third</td>\n",
       "      <td>Chris Miller|Raman Hui</td>\n",
       "      <td>93</td>\n",
       "      <td>Comedy</td>\n",
       "      <td>5/17/2007</td>\n",
       "      <td>5.8</td>\n",
       "      <td>2007</td>\n",
       "    </tr>\n",
       "    <tr>\n",
       "      <th>330</th>\n",
       "      <td>7474</td>\n",
       "      <td>150000000</td>\n",
       "      <td>70.970978</td>\n",
       "      <td>Transformers</td>\n",
       "      <td>Michael Bay</td>\n",
       "      <td>144</td>\n",
       "      <td>Science Fiction</td>\n",
       "      <td>6/27/2007</td>\n",
       "      <td>6.6</td>\n",
       "      <td>2007</td>\n",
       "    </tr>\n",
       "  </tbody>\n",
       "</table>\n",
       "</div>"
      ],
      "text/plain": [
       "     index     budget    revenue                             original_title  \\\n",
       "287   7387  300000000  96.100000   Pirates of the Caribbean: At World's End   \n",
       "186   7388  150000000  93.821274  Harry Potter and the Order of the Phoenix   \n",
       "518   7394  258000000  89.087163                               Spider-Man 3   \n",
       "520   7411  160000000  79.895816                            Shrek the Third   \n",
       "330   7474  150000000  70.970978                               Transformers   \n",
       "\n",
       "                   director  runtime            genres release_date  \\\n",
       "287          Gore Verbinski      169  Action/Adventure    5/19/2007   \n",
       "186             David Yates      138  Action/Adventure    6/28/2007   \n",
       "518               Sam Raimi      139  Action/Adventure     5/1/2007   \n",
       "520  Chris Miller|Raman Hui       93            Comedy    5/17/2007   \n",
       "330             Michael Bay      144   Science Fiction    6/27/2007   \n",
       "\n",
       "     vote_average  release_year  \n",
       "287           6.8          2007  \n",
       "186           7.2          2007  \n",
       "518           5.8          2007  \n",
       "520           5.8          2007  \n",
       "330           6.6          2007  "
      ]
     },
     "execution_count": 193,
     "metadata": {},
     "output_type": "execute_result"
    }
   ],
   "source": [
    "year2007=decade.query('release_year == 2007')\n",
    "year2007=year2007.sort_values(by='revenue', ascending=False)\n",
    "year2007=year2007.head(5)\n",
    "year2007"
   ]
  },
  {
   "cell_type": "code",
   "execution_count": 194,
   "metadata": {
    "scrolled": false
   },
   "outputs": [
    {
     "data": {
      "image/png": "[encoded data removed]",
      "text/plain": [
       "<Figure size 360x360 with 1 Axes>"
      ]
     },
     "metadata": {
      "needs_background": "light"
     },
     "output_type": "display_data"
    }
   ],
   "source": [
    "year2007.plot.barh(x='original_title', y=['revenue','vote_average'], color=['olive', 'y'], figsize=(5,5))\n",
    "plt.title('Highest Grossing Films of 2007 and their Comparitive Ratings')\n",
    "plt.ylabel('')\n",
    "plt.legend(['Revenue(Millions)', 'Average Rating'], loc=\"best\");"
   ]
  },
  {
   "cell_type": "markdown",
   "metadata": {},
   "source": [
    ">Classic example that the general public's liklihood to go see a movie doesn't indicate how good or bad it must be. Shrek the third has a 5.8, a glorified D- according to the letter grade scale."
   ]
  },
  {
   "cell_type": "markdown",
   "metadata": {},
   "source": [
    ">Visualize the rating and revenue of the highest rated films of 2007"
   ]
  },
  {
   "cell_type": "code",
   "execution_count": 195,
   "metadata": {
    "scrolled": true
   },
   "outputs": [
    {
     "data": {
      "text/html": [
       "<div>\n",
       "<style scoped>\n",
       "    .dataframe tbody tr th:only-of-type {\n",
       "        vertical-align: middle;\n",
       "    }\n",
       "\n",
       "    .dataframe tbody tr th {\n",
       "        vertical-align: top;\n",
       "    }\n",
       "\n",
       "    .dataframe thead th {\n",
       "        text-align: right;\n",
       "    }\n",
       "</style>\n",
       "<table border=\"1\" class=\"dataframe\">\n",
       "  <thead>\n",
       "    <tr style=\"text-align: right;\">\n",
       "      <th></th>\n",
       "      <th>index</th>\n",
       "      <th>budget</th>\n",
       "      <th>revenue</th>\n",
       "      <th>original_title</th>\n",
       "      <th>director</th>\n",
       "      <th>runtime</th>\n",
       "      <th>genres</th>\n",
       "      <th>release_date</th>\n",
       "      <th>vote_average</th>\n",
       "      <th>release_year</th>\n",
       "    </tr>\n",
       "  </thead>\n",
       "  <tbody>\n",
       "    <tr>\n",
       "      <th>61</th>\n",
       "      <td>7400</td>\n",
       "      <td>15000000</td>\n",
       "      <td>5.625514</td>\n",
       "      <td>Into the Wild</td>\n",
       "      <td>Sean Penn</td>\n",
       "      <td>148</td>\n",
       "      <td>Drama</td>\n",
       "      <td>9/11/2007</td>\n",
       "      <td>7.7</td>\n",
       "      <td>2007</td>\n",
       "    </tr>\n",
       "    <tr>\n",
       "      <th>76</th>\n",
       "      <td>7391</td>\n",
       "      <td>25000000</td>\n",
       "      <td>17.160000</td>\n",
       "      <td>No Country for Old Men</td>\n",
       "      <td>Joel Coen|Ethan Coen</td>\n",
       "      <td>122</td>\n",
       "      <td>Drama</td>\n",
       "      <td>11/8/2007</td>\n",
       "      <td>7.6</td>\n",
       "      <td>2007</td>\n",
       "    </tr>\n",
       "    <tr>\n",
       "      <th>168</th>\n",
       "      <td>7389</td>\n",
       "      <td>150000000</td>\n",
       "      <td>62.372282</td>\n",
       "      <td>Ratatouille</td>\n",
       "      <td>Brad Bird|Jan Pinkava</td>\n",
       "      <td>111</td>\n",
       "      <td>Comedy</td>\n",
       "      <td>6/22/2007</td>\n",
       "      <td>7.3</td>\n",
       "      <td>2007</td>\n",
       "    </tr>\n",
       "    <tr>\n",
       "      <th>170</th>\n",
       "      <td>7390</td>\n",
       "      <td>70000000</td>\n",
       "      <td>44.282414</td>\n",
       "      <td>The Bourne Ultimatum</td>\n",
       "      <td>Paul Greengrass</td>\n",
       "      <td>115</td>\n",
       "      <td>Drama</td>\n",
       "      <td>8/3/2007</td>\n",
       "      <td>7.2</td>\n",
       "      <td>2007</td>\n",
       "    </tr>\n",
       "    <tr>\n",
       "      <th>173</th>\n",
       "      <td>7410</td>\n",
       "      <td>0</td>\n",
       "      <td>8.057377</td>\n",
       "      <td>Hot Fuzz</td>\n",
       "      <td>Edgar Wright</td>\n",
       "      <td>121</td>\n",
       "      <td>Comedy</td>\n",
       "      <td>2/14/2007</td>\n",
       "      <td>7.2</td>\n",
       "      <td>2007</td>\n",
       "    </tr>\n",
       "  </tbody>\n",
       "</table>\n",
       "</div>"
      ],
      "text/plain": [
       "     index     budget    revenue          original_title  \\\n",
       "61    7400   15000000   5.625514           Into the Wild   \n",
       "76    7391   25000000  17.160000  No Country for Old Men   \n",
       "168   7389  150000000  62.372282             Ratatouille   \n",
       "170   7390   70000000  44.282414    The Bourne Ultimatum   \n",
       "173   7410          0   8.057377                Hot Fuzz   \n",
       "\n",
       "                  director  runtime  genres release_date  vote_average  \\\n",
       "61               Sean Penn      148   Drama    9/11/2007           7.7   \n",
       "76    Joel Coen|Ethan Coen      122   Drama    11/8/2007           7.6   \n",
       "168  Brad Bird|Jan Pinkava      111  Comedy    6/22/2007           7.3   \n",
       "170        Paul Greengrass      115   Drama     8/3/2007           7.2   \n",
       "173           Edgar Wright      121  Comedy    2/14/2007           7.2   \n",
       "\n",
       "     release_year  \n",
       "61           2007  \n",
       "76           2007  \n",
       "168          2007  \n",
       "170          2007  \n",
       "173          2007  "
      ]
     },
     "execution_count": 195,
     "metadata": {},
     "output_type": "execute_result"
    }
   ],
   "source": [
    "year2007rating=decade.query('release_year == 2007')\n",
    "year2007rating=year2007rating.head(5)\n",
    "year2007rating"
   ]
  },
  {
   "cell_type": "code",
   "execution_count": 196,
   "metadata": {},
   "outputs": [
    {
     "data": {
      "image/png": "[encoded data removed]",
      "text/plain": [
       "<Figure size 360x360 with 1 Axes>"
      ]
     },
     "metadata": {
      "needs_background": "light"
     },
     "output_type": "display_data"
    }
   ],
   "source": [
    "year2007rating.plot.barh(x='original_title', y=['revenue','vote_average'], color=['olive', 'y'], figsize=(5,5))\n",
    "plt.title('Highest Rated Films of 2007 and their Comparitive Revenue')\n",
    "plt.ylabel('')\n",
    "plt.legend(['Revenue(Millions)', 'Average Rating'], loc=\"best\");"
   ]
  },
  {
   "cell_type": "markdown",
   "metadata": {},
   "source": [
    ">This supports the thought that regular voters, perhaps those who influence film awards, tend to give high marks to films that are less popular and may not forge high revenue."
   ]
  },
  {
   "cell_type": "markdown",
   "metadata": {},
   "source": [
    "### 2009 Comparisons"
   ]
  },
  {
   "cell_type": "markdown",
   "metadata": {},
   "source": [
    ">Visualize the rating and revenue of the highest grossing films of 2007"
   ]
  },
  {
   "cell_type": "code",
   "execution_count": 197,
   "metadata": {},
   "outputs": [
    {
     "data": {
      "text/html": [
       "<div>\n",
       "<style scoped>\n",
       "    .dataframe tbody tr th:only-of-type {\n",
       "        vertical-align: middle;\n",
       "    }\n",
       "\n",
       "    .dataframe tbody tr th {\n",
       "        vertical-align: top;\n",
       "    }\n",
       "\n",
       "    .dataframe thead th {\n",
       "        text-align: right;\n",
       "    }\n",
       "</style>\n",
       "<table border=\"1\" class=\"dataframe\">\n",
       "  <thead>\n",
       "    <tr style=\"text-align: right;\">\n",
       "      <th></th>\n",
       "      <th>index</th>\n",
       "      <th>budget</th>\n",
       "      <th>revenue</th>\n",
       "      <th>original_title</th>\n",
       "      <th>director</th>\n",
       "      <th>runtime</th>\n",
       "      <th>genres</th>\n",
       "      <th>release_date</th>\n",
       "      <th>vote_average</th>\n",
       "      <th>release_year</th>\n",
       "    </tr>\n",
       "  </thead>\n",
       "  <tbody>\n",
       "    <tr>\n",
       "      <th>222</th>\n",
       "      <td>1386</td>\n",
       "      <td>237000000</td>\n",
       "      <td>278.150585</td>\n",
       "      <td>Avatar</td>\n",
       "      <td>James Cameron</td>\n",
       "      <td>162</td>\n",
       "      <td>Science Fiction</td>\n",
       "      <td>12/10/2009</td>\n",
       "      <td>7.1</td>\n",
       "      <td>2009</td>\n",
       "    </tr>\n",
       "    <tr>\n",
       "      <th>158</th>\n",
       "      <td>1389</td>\n",
       "      <td>250000000</td>\n",
       "      <td>93.395920</td>\n",
       "      <td>Harry Potter and the Half-Blood Prince</td>\n",
       "      <td>David Yates</td>\n",
       "      <td>153</td>\n",
       "      <td>Action/Adventure</td>\n",
       "      <td>7/7/2009</td>\n",
       "      <td>7.3</td>\n",
       "      <td>2009</td>\n",
       "    </tr>\n",
       "    <tr>\n",
       "      <th>392</th>\n",
       "      <td>1396</td>\n",
       "      <td>90000000</td>\n",
       "      <td>88.668682</td>\n",
       "      <td>Ice Age: Dawn of the Dinosaurs</td>\n",
       "      <td>Carlos Saldanha</td>\n",
       "      <td>94</td>\n",
       "      <td>Comedy</td>\n",
       "      <td>6/29/2009</td>\n",
       "      <td>6.4</td>\n",
       "      <td>2009</td>\n",
       "    </tr>\n",
       "    <tr>\n",
       "      <th>496</th>\n",
       "      <td>1487</td>\n",
       "      <td>150000000</td>\n",
       "      <td>83.629723</td>\n",
       "      <td>Transformers: Revenge of the Fallen</td>\n",
       "      <td>Michael Bay</td>\n",
       "      <td>150</td>\n",
       "      <td>Science Fiction</td>\n",
       "      <td>6/19/2009</td>\n",
       "      <td>6.0</td>\n",
       "      <td>2009</td>\n",
       "    </tr>\n",
       "    <tr>\n",
       "      <th>537</th>\n",
       "      <td>1399</td>\n",
       "      <td>200000000</td>\n",
       "      <td>76.965360</td>\n",
       "      <td>2012</td>\n",
       "      <td>Roland Emmerich</td>\n",
       "      <td>158</td>\n",
       "      <td>Science Fiction</td>\n",
       "      <td>10/10/2009</td>\n",
       "      <td>5.6</td>\n",
       "      <td>2009</td>\n",
       "    </tr>\n",
       "  </tbody>\n",
       "</table>\n",
       "</div>"
      ],
      "text/plain": [
       "     index     budget     revenue                          original_title  \\\n",
       "222   1386  237000000  278.150585                                  Avatar   \n",
       "158   1389  250000000   93.395920  Harry Potter and the Half-Blood Prince   \n",
       "392   1396   90000000   88.668682          Ice Age: Dawn of the Dinosaurs   \n",
       "496   1487  150000000   83.629723     Transformers: Revenge of the Fallen   \n",
       "537   1399  200000000   76.965360                                    2012   \n",
       "\n",
       "            director  runtime            genres release_date  vote_average  \\\n",
       "222    James Cameron      162   Science Fiction   12/10/2009           7.1   \n",
       "158      David Yates      153  Action/Adventure     7/7/2009           7.3   \n",
       "392  Carlos Saldanha       94            Comedy    6/29/2009           6.4   \n",
       "496      Michael Bay      150   Science Fiction    6/19/2009           6.0   \n",
       "537  Roland Emmerich      158   Science Fiction   10/10/2009           5.6   \n",
       "\n",
       "     release_year  \n",
       "222          2009  \n",
       "158          2009  \n",
       "392          2009  \n",
       "496          2009  \n",
       "537          2009  "
      ]
     },
     "execution_count": 197,
     "metadata": {},
     "output_type": "execute_result"
    }
   ],
   "source": [
    "year2009=decade.query('release_year == 2009')\n",
    "year2009=year2009.sort_values(by='revenue', ascending=False)\n",
    "year2009=year2009.head(5)\n",
    "year2009"
   ]
  },
  {
   "cell_type": "code",
   "execution_count": 198,
   "metadata": {
    "scrolled": true
   },
   "outputs": [
    {
     "data": {
      "image/png": "[encoded data removed]",
      "text/plain": [
       "<Figure size 360x360 with 1 Axes>"
      ]
     },
     "metadata": {
      "needs_background": "light"
     },
     "output_type": "display_data"
    }
   ],
   "source": [
    "year2009.plot.barh(x='original_title', y=['revenue','vote_average'], color=['salmon', 'orangered'], figsize=(5,5))\n",
    "plt.title('Highest Grossing Films of 2009 and their Comparitive Ratings')\n",
    "plt.ylabel('')\n",
    "plt.legend(['Revenue(Millions)', 'Average Rating'], loc=\"best\");"
   ]
  },
  {
   "cell_type": "markdown",
   "metadata": {},
   "source": [
    ">This data shows the same thing that the 2007 highest grossing film data shows, the movies that make the most money are rarely the highest rated. Although there are some higher rated films here, none of them appear in the highest rated films of 2009"
   ]
  },
  {
   "cell_type": "markdown",
   "metadata": {},
   "source": [
    ">Visualize the rating and revenue of the highest grossing films of 2007"
   ]
  },
  {
   "cell_type": "code",
   "execution_count": 199,
   "metadata": {},
   "outputs": [
    {
     "data": {
      "text/html": [
       "<div>\n",
       "<style scoped>\n",
       "    .dataframe tbody tr th:only-of-type {\n",
       "        vertical-align: middle;\n",
       "    }\n",
       "\n",
       "    .dataframe tbody tr th {\n",
       "        vertical-align: top;\n",
       "    }\n",
       "\n",
       "    .dataframe thead th {\n",
       "        text-align: right;\n",
       "    }\n",
       "</style>\n",
       "<table border=\"1\" class=\"dataframe\">\n",
       "  <thead>\n",
       "    <tr style=\"text-align: right;\">\n",
       "      <th></th>\n",
       "      <th>index</th>\n",
       "      <th>budget</th>\n",
       "      <th>revenue</th>\n",
       "      <th>original_title</th>\n",
       "      <th>director</th>\n",
       "      <th>runtime</th>\n",
       "      <th>genres</th>\n",
       "      <th>release_date</th>\n",
       "      <th>vote_average</th>\n",
       "      <th>release_year</th>\n",
       "    </tr>\n",
       "  </thead>\n",
       "  <tbody>\n",
       "    <tr>\n",
       "      <th>55</th>\n",
       "      <td>1387</td>\n",
       "      <td>70000000</td>\n",
       "      <td>31.913105</td>\n",
       "      <td>Inglourious Basterds</td>\n",
       "      <td>Quentin Tarantino</td>\n",
       "      <td>153</td>\n",
       "      <td>Drama</td>\n",
       "      <td>8/18/2009</td>\n",
       "      <td>7.7</td>\n",
       "      <td>2009</td>\n",
       "    </tr>\n",
       "    <tr>\n",
       "      <th>82</th>\n",
       "      <td>1390</td>\n",
       "      <td>175000000</td>\n",
       "      <td>73.134274</td>\n",
       "      <td>Up</td>\n",
       "      <td>Bob Peterson|Pete Docter</td>\n",
       "      <td>96</td>\n",
       "      <td>Comedy</td>\n",
       "      <td>5/13/2009</td>\n",
       "      <td>7.6</td>\n",
       "      <td>2009</td>\n",
       "    </tr>\n",
       "    <tr>\n",
       "      <th>123</th>\n",
       "      <td>1429</td>\n",
       "      <td>5000000</td>\n",
       "      <td>0.976010</td>\n",
       "      <td>Moon</td>\n",
       "      <td>Duncan Jones</td>\n",
       "      <td>97</td>\n",
       "      <td>Drama</td>\n",
       "      <td>6/12/2009</td>\n",
       "      <td>7.4</td>\n",
       "      <td>2009</td>\n",
       "    </tr>\n",
       "    <tr>\n",
       "      <th>154</th>\n",
       "      <td>1395</td>\n",
       "      <td>7500000</td>\n",
       "      <td>6.072273</td>\n",
       "      <td>(500) Days of Summer</td>\n",
       "      <td>Marc Webb</td>\n",
       "      <td>95</td>\n",
       "      <td>Drama</td>\n",
       "      <td>7/17/2009</td>\n",
       "      <td>7.3</td>\n",
       "      <td>2009</td>\n",
       "    </tr>\n",
       "    <tr>\n",
       "      <th>157</th>\n",
       "      <td>1391</td>\n",
       "      <td>150000000</td>\n",
       "      <td>38.568045</td>\n",
       "      <td>Star Trek</td>\n",
       "      <td>J.J. Abrams</td>\n",
       "      <td>127</td>\n",
       "      <td>Science Fiction</td>\n",
       "      <td>5/6/2009</td>\n",
       "      <td>7.3</td>\n",
       "      <td>2009</td>\n",
       "    </tr>\n",
       "  </tbody>\n",
       "</table>\n",
       "</div>"
      ],
      "text/plain": [
       "     index     budget    revenue        original_title  \\\n",
       "55    1387   70000000  31.913105  Inglourious Basterds   \n",
       "82    1390  175000000  73.134274                    Up   \n",
       "123   1429    5000000   0.976010                  Moon   \n",
       "154   1395    7500000   6.072273  (500) Days of Summer   \n",
       "157   1391  150000000  38.568045             Star Trek   \n",
       "\n",
       "                     director  runtime           genres release_date  \\\n",
       "55          Quentin Tarantino      153            Drama    8/18/2009   \n",
       "82   Bob Peterson|Pete Docter       96           Comedy    5/13/2009   \n",
       "123              Duncan Jones       97            Drama    6/12/2009   \n",
       "154                 Marc Webb       95            Drama    7/17/2009   \n",
       "157               J.J. Abrams      127  Science Fiction     5/6/2009   \n",
       "\n",
       "     vote_average  release_year  \n",
       "55            7.7          2009  \n",
       "82            7.6          2009  \n",
       "123           7.4          2009  \n",
       "154           7.3          2009  \n",
       "157           7.3          2009  "
      ]
     },
     "execution_count": 199,
     "metadata": {},
     "output_type": "execute_result"
    }
   ],
   "source": [
    "year2009rating=decade.query('release_year == 2009')\n",
    "year2009rating=year2009rating.head(5)\n",
    "year2009rating"
   ]
  },
  {
   "cell_type": "code",
   "execution_count": 200,
   "metadata": {
    "scrolled": true
   },
   "outputs": [
    {
     "data": {
      "image/png": "[encoded data removed]",
      "text/plain": [
       "<Figure size 360x360 with 1 Axes>"
      ]
     },
     "metadata": {
      "needs_background": "light"
     },
     "output_type": "display_data"
    }
   ],
   "source": [
    "year2009rating.plot.barh(x='original_title', y=['revenue','vote_average'], color=['salmon', 'orangered'], figsize=(5,5))\n",
    "plt.title('Highest Rated Films of 2009 and their Comparitive Revenue')\n",
    "plt.ylabel('')\n",
    "plt.legend(['Revenue(Millions)', 'Average Rating'], loc=\"best\");"
   ]
  },
  {
   "cell_type": "markdown",
   "metadata": {},
   "source": [
    ">Similar to 2007, the highest rated films do not align with those that make the most money. Personally, this has also supported my theory that I have 'good taste' in movies, since these 5 are among my favorites, and I could care less about the highest grossing films! "
   ]
  },
  {
   "cell_type": "markdown",
   "metadata": {},
   "source": [
    "### Question 4\n",
    "####  Is there a recency bias? Do newer films have a significantly higher/lower vote average?"
   ]
  },
  {
   "cell_type": "markdown",
   "metadata": {},
   "source": [
    ">A seaborn scatterplot with a line of best fit is used to visualize the relationship beween the number of films released in a particular year and the average rating."
   ]
  },
  {
   "cell_type": "code",
   "execution_count": 201,
   "metadata": {},
   "outputs": [
    {
     "data": {
      "image/png": "[encoded data removed]",
      "text/plain": [
       "<Figure size 432x288 with 1 Axes>"
      ]
     },
     "metadata": {
      "needs_background": "light"
     },
     "output_type": "display_data"
    }
   ],
   "source": [
    "sns.regplot(imdb['release_year'],imdb['vote_average']);"
   ]
  },
  {
   "cell_type": "markdown",
   "metadata": {},
   "source": [
    "> This plot implies that there may be a recency bias in that, newer films are critiqued more harshly. However, there are many variables that could impact the validity of the correlation (See limitations) "
   ]
  },
  {
   "cell_type": "markdown",
   "metadata": {},
   "source": [
    "<a id='conclusions'></a>\n",
    "## Conclusions\n",
    "\n",
    "\n",
    "In the last 10 years of this data set, which year had the highest revenue? Which year had the highest revenue proportional to the number of films released?\n",
    "Of the highest grossing year overall, and the proportionally highest grossing year of the last decade, which films had the highest revenue, and how do they compare to those with the highest rating?\n",
    "Does there appear to be a recency bias (i.e. Are newer movies getting consistently higher or lower ratings on average)?\n",
    "\n",
    ">**Question 1:** When looking at the top 10 movies by voter average and revenue, the results from the data provided did not match the data from IMDBs website. This could be for a variety of reasons, most likely the data is outdated, and the way IMDb calculates the ranking allows for current films to initially score very high and later move down the list. I believe this is the case for the move 'Whiplash' being ranked so high in my data but not in the IMDb current list.\n",
    "\n",
    ">**Question 2:** For the genre related question, the visualizations imply that Drama has the highest voter average. However, there could be discrepancies in how a film's genre is defined in reality. There could also be more eligible genre types that may make the data look significantly different. Additionally there are several films that could be defined as multiple generes, but were only counted once for this analysis. \n",
    "\n",
    ">**Question 3:** When the highest revenue was looked at as an overall total, the year 2009 had the highest value. When it was adjusted to a proportional value 2007 had the highest revenue. It could be implied that 2007 had a lot of 'blockbuster' films, whereas 2009 had a handful, but individually had a significantly higher gross. \n",
    "\n",
    ">**Question 4:** Looking at the data from question 3, I felt it was important to look at specific films in each year. From this I was able to see that Avatar came out in 2009. Based on the Data from question 1, Avatar is the highest grossing film overall so this aligns with why the data from 2009 has the total highest gross, but not the overall highest. \n",
    "\n",
    ">**Question 5:** The scatter plot and line of best fit make it appear that as more films are released the vote average declines, but we cannot assume why. There are too many factors that could be the cause for lower averages. For example, larger studio budgets allow for the production of more films, and therefore 'worse' films as far as quality. It could also be a change in the viewers- that is, more people have access to movies now, so they are ranking more films and with the larger pool of films, some may be ranked extrememly low.\n",
    "\n",
    "### Limitations\n",
    "  + There is no way to be sure that the data provided is complete\n",
    "  + The ratings do not align with IMDb ratings, so there is no way to tell how the assigned values were calculated\n",
    "  + There is a high chance of missing data, or innacurately labeled data\n",
    "  + While the recency bias data looks like there is a correlation between more films, and lower ratings, it is highly possible that there are many films missing from the early years of the data\n",
    "  + It is unclear whether or not the revenue has been adjusted for inflation? This could change the revenue and the rating analysis \n",
    "  "
   ]
  },
  {
   "cell_type": "markdown",
   "metadata": {},
   "source": [
    "### Resources\n",
    ">\n",
    "+ https://www.data-to-viz.com/#scatter\n",
    "+ http://python-graph-gallery.com/scatter-plot/\n",
    "+ https://stackoverflow.com/\n",
    "+ https://pandas.pydata.org/pandas-docs/stable/genindex.html"
   ]
  }
 ],
 "metadata": {
  "kernelspec": {
   "display_name": "Python 3",
   "language": "python",
   "name": "python3"
  },
  "language_info": {
   "codemirror_mode": {
    "name": "ipython",
    "version": 3
   },
   "file_extension": ".py",
   "mimetype": "text/x-python",
   "name": "python",
   "nbconvert_exporter": "python",
   "pygments_lexer": "ipython3",
   "version": "3.7.4"
  }
 },
 "nbformat": 4,
 "nbformat_minor": 2
}
